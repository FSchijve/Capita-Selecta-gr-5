{
  "nbformat": 4,
  "nbformat_minor": 0,
  "metadata": {
    "colab": {
      "name": "Copy of Rotation+shearing+scaling+flipping.ipynb",
      "provenance": [],
      "collapsed_sections": [],
      "include_colab_link": true
    },
    "kernelspec": {
      "name": "python3",
      "display_name": "Python 3"
    },
    "accelerator": "GPU",
    "widgets": {
      "application/vnd.jupyter.widget-state+json": {
        "5948d3a40d9a46a39dd85fb1c2912fdc": {
          "model_module": "@jupyter-widgets/controls",
          "model_name": "HBoxModel",
          "state": {
            "_view_name": "HBoxView",
            "_dom_classes": [],
            "_model_name": "HBoxModel",
            "_view_module": "@jupyter-widgets/controls",
            "_model_module_version": "1.5.0",
            "_view_count": null,
            "_view_module_version": "1.5.0",
            "box_style": "",
            "layout": "IPY_MODEL_824eed7c001b474996cb90d874ddacd4",
            "_model_module": "@jupyter-widgets/controls",
            "children": [
              "IPY_MODEL_ce67b46e8a594b5db802dd1290e5c3c5",
              "IPY_MODEL_27683275dc0f47a192cd9bf2820a748e"
            ]
          }
        },
        "824eed7c001b474996cb90d874ddacd4": {
          "model_module": "@jupyter-widgets/base",
          "model_name": "LayoutModel",
          "state": {
            "_view_name": "LayoutView",
            "grid_template_rows": null,
            "right": null,
            "justify_content": null,
            "_view_module": "@jupyter-widgets/base",
            "overflow": null,
            "_model_module_version": "1.2.0",
            "_view_count": null,
            "flex_flow": null,
            "width": null,
            "min_width": null,
            "border": null,
            "align_items": null,
            "bottom": null,
            "_model_module": "@jupyter-widgets/base",
            "top": null,
            "grid_column": null,
            "overflow_y": null,
            "overflow_x": null,
            "grid_auto_flow": null,
            "grid_area": null,
            "grid_template_columns": null,
            "flex": null,
            "_model_name": "LayoutModel",
            "justify_items": null,
            "grid_row": null,
            "max_height": null,
            "align_content": null,
            "visibility": null,
            "align_self": null,
            "height": null,
            "min_height": null,
            "padding": null,
            "grid_auto_rows": null,
            "grid_gap": null,
            "max_width": null,
            "order": null,
            "_view_module_version": "1.2.0",
            "grid_template_areas": null,
            "object_position": null,
            "object_fit": null,
            "grid_auto_columns": null,
            "margin": null,
            "display": null,
            "left": null
          }
        },
        "ce67b46e8a594b5db802dd1290e5c3c5": {
          "model_module": "@jupyter-widgets/controls",
          "model_name": "FloatProgressModel",
          "state": {
            "_view_name": "ProgressView",
            "style": "IPY_MODEL_e2a0b0e8ad1744bfbff3643e7aef2d46",
            "_dom_classes": [],
            "description": " 35%",
            "_model_name": "FloatProgressModel",
            "bar_style": "danger",
            "max": 408,
            "_view_module": "@jupyter-widgets/controls",
            "_model_module_version": "1.5.0",
            "value": 143,
            "_view_count": null,
            "_view_module_version": "1.5.0",
            "orientation": "horizontal",
            "min": 0,
            "description_tooltip": null,
            "_model_module": "@jupyter-widgets/controls",
            "layout": "IPY_MODEL_8452d1f9b31a4d12acb278fa6d13037f"
          }
        },
        "27683275dc0f47a192cd9bf2820a748e": {
          "model_module": "@jupyter-widgets/controls",
          "model_name": "HTMLModel",
          "state": {
            "_view_name": "HTMLView",
            "style": "IPY_MODEL_edb0b951775d4050bf7825813412e4a3",
            "_dom_classes": [],
            "description": "",
            "_model_name": "HTMLModel",
            "placeholder": "​",
            "_view_module": "@jupyter-widgets/controls",
            "_model_module_version": "1.5.0",
            "value": " 143/408 [02:54&lt;04:04,  1.08it/s]",
            "_view_count": null,
            "_view_module_version": "1.5.0",
            "description_tooltip": null,
            "_model_module": "@jupyter-widgets/controls",
            "layout": "IPY_MODEL_ce91def4338d48aab488f9673e806100"
          }
        },
        "e2a0b0e8ad1744bfbff3643e7aef2d46": {
          "model_module": "@jupyter-widgets/controls",
          "model_name": "ProgressStyleModel",
          "state": {
            "_view_name": "StyleView",
            "_model_name": "ProgressStyleModel",
            "description_width": "initial",
            "_view_module": "@jupyter-widgets/base",
            "_model_module_version": "1.5.0",
            "_view_count": null,
            "_view_module_version": "1.2.0",
            "bar_color": null,
            "_model_module": "@jupyter-widgets/controls"
          }
        },
        "8452d1f9b31a4d12acb278fa6d13037f": {
          "model_module": "@jupyter-widgets/base",
          "model_name": "LayoutModel",
          "state": {
            "_view_name": "LayoutView",
            "grid_template_rows": null,
            "right": null,
            "justify_content": null,
            "_view_module": "@jupyter-widgets/base",
            "overflow": null,
            "_model_module_version": "1.2.0",
            "_view_count": null,
            "flex_flow": null,
            "width": null,
            "min_width": null,
            "border": null,
            "align_items": null,
            "bottom": null,
            "_model_module": "@jupyter-widgets/base",
            "top": null,
            "grid_column": null,
            "overflow_y": null,
            "overflow_x": null,
            "grid_auto_flow": null,
            "grid_area": null,
            "grid_template_columns": null,
            "flex": null,
            "_model_name": "LayoutModel",
            "justify_items": null,
            "grid_row": null,
            "max_height": null,
            "align_content": null,
            "visibility": null,
            "align_self": null,
            "height": null,
            "min_height": null,
            "padding": null,
            "grid_auto_rows": null,
            "grid_gap": null,
            "max_width": null,
            "order": null,
            "_view_module_version": "1.2.0",
            "grid_template_areas": null,
            "object_position": null,
            "object_fit": null,
            "grid_auto_columns": null,
            "margin": null,
            "display": null,
            "left": null
          }
        },
        "edb0b951775d4050bf7825813412e4a3": {
          "model_module": "@jupyter-widgets/controls",
          "model_name": "DescriptionStyleModel",
          "state": {
            "_view_name": "StyleView",
            "_model_name": "DescriptionStyleModel",
            "description_width": "",
            "_view_module": "@jupyter-widgets/base",
            "_model_module_version": "1.5.0",
            "_view_count": null,
            "_view_module_version": "1.2.0",
            "_model_module": "@jupyter-widgets/controls"
          }
        },
        "ce91def4338d48aab488f9673e806100": {
          "model_module": "@jupyter-widgets/base",
          "model_name": "LayoutModel",
          "state": {
            "_view_name": "LayoutView",
            "grid_template_rows": null,
            "right": null,
            "justify_content": null,
            "_view_module": "@jupyter-widgets/base",
            "overflow": null,
            "_model_module_version": "1.2.0",
            "_view_count": null,
            "flex_flow": null,
            "width": null,
            "min_width": null,
            "border": null,
            "align_items": null,
            "bottom": null,
            "_model_module": "@jupyter-widgets/base",
            "top": null,
            "grid_column": null,
            "overflow_y": null,
            "overflow_x": null,
            "grid_auto_flow": null,
            "grid_area": null,
            "grid_template_columns": null,
            "flex": null,
            "_model_name": "LayoutModel",
            "justify_items": null,
            "grid_row": null,
            "max_height": null,
            "align_content": null,
            "visibility": null,
            "align_self": null,
            "height": null,
            "min_height": null,
            "padding": null,
            "grid_auto_rows": null,
            "grid_gap": null,
            "max_width": null,
            "order": null,
            "_view_module_version": "1.2.0",
            "grid_template_areas": null,
            "object_position": null,
            "object_fit": null,
            "grid_auto_columns": null,
            "margin": null,
            "display": null,
            "left": null
          }
        },
        "fe22f60503bc434aa269aac20d2fcf2e": {
          "model_module": "@jupyter-widgets/controls",
          "model_name": "HBoxModel",
          "state": {
            "_view_name": "HBoxView",
            "_dom_classes": [],
            "_model_name": "HBoxModel",
            "_view_module": "@jupyter-widgets/controls",
            "_model_module_version": "1.5.0",
            "_view_count": null,
            "_view_module_version": "1.5.0",
            "box_style": "",
            "layout": "IPY_MODEL_f3d4a9682e62413d97eab0aa423823e5",
            "_model_module": "@jupyter-widgets/controls",
            "children": [
              "IPY_MODEL_b440c7962ba94f159cae2b6e14549a38",
              "IPY_MODEL_83a30809d69d404bae619f165006dece"
            ]
          }
        },
        "f3d4a9682e62413d97eab0aa423823e5": {
          "model_module": "@jupyter-widgets/base",
          "model_name": "LayoutModel",
          "state": {
            "_view_name": "LayoutView",
            "grid_template_rows": null,
            "right": null,
            "justify_content": null,
            "_view_module": "@jupyter-widgets/base",
            "overflow": null,
            "_model_module_version": "1.2.0",
            "_view_count": null,
            "flex_flow": null,
            "width": null,
            "min_width": null,
            "border": null,
            "align_items": null,
            "bottom": null,
            "_model_module": "@jupyter-widgets/base",
            "top": null,
            "grid_column": null,
            "overflow_y": null,
            "overflow_x": null,
            "grid_auto_flow": null,
            "grid_area": null,
            "grid_template_columns": null,
            "flex": null,
            "_model_name": "LayoutModel",
            "justify_items": null,
            "grid_row": null,
            "max_height": null,
            "align_content": null,
            "visibility": null,
            "align_self": null,
            "height": null,
            "min_height": null,
            "padding": null,
            "grid_auto_rows": null,
            "grid_gap": null,
            "max_width": null,
            "order": null,
            "_view_module_version": "1.2.0",
            "grid_template_areas": null,
            "object_position": null,
            "object_fit": null,
            "grid_auto_columns": null,
            "margin": null,
            "display": null,
            "left": null
          }
        },
        "b440c7962ba94f159cae2b6e14549a38": {
          "model_module": "@jupyter-widgets/controls",
          "model_name": "FloatProgressModel",
          "state": {
            "_view_name": "ProgressView",
            "style": "IPY_MODEL_07bf58dc150549c29fff8daf161fbcd5",
            "_dom_classes": [],
            "description": "100%",
            "_model_name": "FloatProgressModel",
            "bar_style": "success",
            "max": 48,
            "_view_module": "@jupyter-widgets/controls",
            "_model_module_version": "1.5.0",
            "value": 48,
            "_view_count": null,
            "_view_module_version": "1.5.0",
            "orientation": "horizontal",
            "min": 0,
            "description_tooltip": null,
            "_model_module": "@jupyter-widgets/controls",
            "layout": "IPY_MODEL_8864c54be223434da1eb07c974da97c9"
          }
        },
        "83a30809d69d404bae619f165006dece": {
          "model_module": "@jupyter-widgets/controls",
          "model_name": "HTMLModel",
          "state": {
            "_view_name": "HTMLView",
            "style": "IPY_MODEL_9a2183486f6142fd8d9a6da7bdb58019",
            "_dom_classes": [],
            "description": "",
            "_model_name": "HTMLModel",
            "placeholder": "​",
            "_view_module": "@jupyter-widgets/controls",
            "_model_module_version": "1.5.0",
            "value": " 48/48 [00:07&lt;00:00,  6.81it/s]",
            "_view_count": null,
            "_view_module_version": "1.5.0",
            "description_tooltip": null,
            "_model_module": "@jupyter-widgets/controls",
            "layout": "IPY_MODEL_0aa296b4043e4fd3bce55cb96e167115"
          }
        },
        "07bf58dc150549c29fff8daf161fbcd5": {
          "model_module": "@jupyter-widgets/controls",
          "model_name": "ProgressStyleModel",
          "state": {
            "_view_name": "StyleView",
            "_model_name": "ProgressStyleModel",
            "description_width": "initial",
            "_view_module": "@jupyter-widgets/base",
            "_model_module_version": "1.5.0",
            "_view_count": null,
            "_view_module_version": "1.2.0",
            "bar_color": null,
            "_model_module": "@jupyter-widgets/controls"
          }
        },
        "8864c54be223434da1eb07c974da97c9": {
          "model_module": "@jupyter-widgets/base",
          "model_name": "LayoutModel",
          "state": {
            "_view_name": "LayoutView",
            "grid_template_rows": null,
            "right": null,
            "justify_content": null,
            "_view_module": "@jupyter-widgets/base",
            "overflow": null,
            "_model_module_version": "1.2.0",
            "_view_count": null,
            "flex_flow": null,
            "width": null,
            "min_width": null,
            "border": null,
            "align_items": null,
            "bottom": null,
            "_model_module": "@jupyter-widgets/base",
            "top": null,
            "grid_column": null,
            "overflow_y": null,
            "overflow_x": null,
            "grid_auto_flow": null,
            "grid_area": null,
            "grid_template_columns": null,
            "flex": null,
            "_model_name": "LayoutModel",
            "justify_items": null,
            "grid_row": null,
            "max_height": null,
            "align_content": null,
            "visibility": null,
            "align_self": null,
            "height": null,
            "min_height": null,
            "padding": null,
            "grid_auto_rows": null,
            "grid_gap": null,
            "max_width": null,
            "order": null,
            "_view_module_version": "1.2.0",
            "grid_template_areas": null,
            "object_position": null,
            "object_fit": null,
            "grid_auto_columns": null,
            "margin": null,
            "display": null,
            "left": null
          }
        },
        "9a2183486f6142fd8d9a6da7bdb58019": {
          "model_module": "@jupyter-widgets/controls",
          "model_name": "DescriptionStyleModel",
          "state": {
            "_view_name": "StyleView",
            "_model_name": "DescriptionStyleModel",
            "description_width": "",
            "_view_module": "@jupyter-widgets/base",
            "_model_module_version": "1.5.0",
            "_view_count": null,
            "_view_module_version": "1.2.0",
            "_model_module": "@jupyter-widgets/controls"
          }
        },
        "0aa296b4043e4fd3bce55cb96e167115": {
          "model_module": "@jupyter-widgets/base",
          "model_name": "LayoutModel",
          "state": {
            "_view_name": "LayoutView",
            "grid_template_rows": null,
            "right": null,
            "justify_content": null,
            "_view_module": "@jupyter-widgets/base",
            "overflow": null,
            "_model_module_version": "1.2.0",
            "_view_count": null,
            "flex_flow": null,
            "width": null,
            "min_width": null,
            "border": null,
            "align_items": null,
            "bottom": null,
            "_model_module": "@jupyter-widgets/base",
            "top": null,
            "grid_column": null,
            "overflow_y": null,
            "overflow_x": null,
            "grid_auto_flow": null,
            "grid_area": null,
            "grid_template_columns": null,
            "flex": null,
            "_model_name": "LayoutModel",
            "justify_items": null,
            "grid_row": null,
            "max_height": null,
            "align_content": null,
            "visibility": null,
            "align_self": null,
            "height": null,
            "min_height": null,
            "padding": null,
            "grid_auto_rows": null,
            "grid_gap": null,
            "max_width": null,
            "order": null,
            "_view_module_version": "1.2.0",
            "grid_template_areas": null,
            "object_position": null,
            "object_fit": null,
            "grid_auto_columns": null,
            "margin": null,
            "display": null,
            "left": null
          }
        }
      }
    }
  },
  "cells": [
    {
      "cell_type": "markdown",
      "metadata": {
        "id": "view-in-github",
        "colab_type": "text"
      },
      "source": [
        "<a href=\"https://colab.research.google.com/github/FSchijve/Capita-Selecta-gr-5/blob/main/Copy_of_Rotation%2Bshearing%2Bscaling%2Bflipping.ipynb\" target=\"_parent\"><img src=\"https://colab.research.google.com/assets/colab-badge.svg\" alt=\"Open In Colab\"/></a>"
      ]
    },
    {
      "cell_type": "markdown",
      "metadata": {
        "id": "Savl3vhn9A0X"
      },
      "source": [
        "#PyTorch WMH basic U-Net\n",
        "\n",
        "Link to data: https://drive.google.com/drive/folders/1urcqcK2k-XPR7t-BJtMLrlHdZaEMiud5?usp=sharing\n",
        "\n",
        "Right-click on folder, select 'Add shortcut to Drive -> MyDrive'"
      ]
    },
    {
      "cell_type": "code",
      "metadata": {
        "id": "fB7O8rY-6PmU",
        "colab": {
          "base_uri": "https://localhost:8080/"
        },
        "outputId": "b3fb2c50-086d-4d0f-ec3b-be119b23f4aa"
      },
      "source": [
        "from google.colab import drive\n",
        "drive.mount('/content/drive')"
      ],
      "execution_count": null,
      "outputs": [
        {
          "output_type": "stream",
          "text": [
            "Mounted at /content/drive\n"
          ],
          "name": "stdout"
        }
      ]
    },
    {
      "cell_type": "code",
      "metadata": {
        "colab": {
          "base_uri": "https://localhost:8080/"
        },
        "id": "R-JBlbaP-XqA",
        "outputId": "7b1ab403-3745-40a4-c46f-f704c6d1c58b"
      },
      "source": [
        "!ls \"/content/drive/MyDrive/Utrecht\""
      ],
      "execution_count": null,
      "outputs": [
        {
          "output_type": "stream",
          "text": [
            "0  11  17  19  2  21  23  25  27  29  31  33  35  37  39  4  41  49  6\t8\n"
          ],
          "name": "stdout"
        }
      ]
    },
    {
      "cell_type": "code",
      "metadata": {
        "id": "f--thozY6aUU",
        "colab": {
          "base_uri": "https://localhost:8080/"
        },
        "outputId": "a06d23aa-50b7-4f9e-8917-c2f90497358c"
      },
      "source": [
        "# First, we import PyTorch and NumPy\n",
        "import torch\n",
        "import numpy as np\n",
        "import os\n",
        "# For the augmentations\n",
        "import torchvision\n",
        "import random\n",
        "# These two extra for evaluation.\n",
        "import difflib\n",
        "import scipy.spatial\n",
        "# We import glob to find everything that matches a pattern\n",
        "from glob import glob\n",
        "# We install and import SimpleITK for image loading\n",
        "# pip is the package installer for python\n",
        "!pip install SimpleITK\n",
        "import SimpleITK as sitk\n",
        "# To show data, we import matplotlib\n",
        "import matplotlib.pyplot as plt\n",
        "from tqdm.notebook import tqdm # progressbar "
      ],
      "execution_count": null,
      "outputs": [
        {
          "output_type": "stream",
          "text": [
            "Collecting SimpleITK\n",
            "\u001b[?25l  Downloading https://files.pythonhosted.org/packages/cc/85/6a7ce61f07cdaca722dd64f028b5678fb0a9e1bf66f534c2f8dd2eb78490/SimpleITK-2.0.2-cp36-cp36m-manylinux2010_x86_64.whl (47.4MB)\n",
            "\u001b[K     |████████████████████████████████| 47.4MB 67kB/s \n",
            "\u001b[?25hInstalling collected packages: SimpleITK\n",
            "Successfully installed SimpleITK-2.0.2\n"
          ],
          "name": "stdout"
        }
      ]
    },
    {
      "cell_type": "markdown",
      "metadata": {
        "id": "IOjQn-7Mfba6"
      },
      "source": [
        "## Data Augmentation Implementations here\r\n",
        "\r\n",
        "Add the augmentation so that for a specific type of augmentation the same augmentation is done for both the target and the image.\r\n",
        "\r\n",
        "Later down in the code, before the data set gets increased, there is a section to plot the image and target. Please test and check there if the augmentation properly works."
      ]
    },
    {
      "cell_type": "code",
      "metadata": {
        "id": "Ljc8BvnrfwmJ"
      },
      "source": [
        "class transforms(): \r\n",
        "  def normalize(self, img, x_min, x_max): \r\n",
        "    max_img = torch.max(img)\r\n",
        "    min_img = torch.min(img)\r\n",
        "    nom = (img - min_img) * (x_max - x_min)\r\n",
        "    denom = max_img - min_img\r\n",
        "    denom = denom + (denom == 0) \r\n",
        "    return x_min + nom / denom \r\n",
        "\r\n",
        "  def rotate(self, img, wmh, degrees): \r\n",
        "    \"\"\" Function to rotate both the image and wmh mask with a random rotation in the same way.\r\n",
        "    The degrees paramater has to be passed as a range e.g. (-18, 18).\r\n",
        "    Has been checked.\r\n",
        "    \"\"\"\r\n",
        "    angle = torchvision.transforms.RandomRotation.get_params(degrees)\r\n",
        "    rotated_img = torchvision.transforms.functional.rotate(img, angle)\r\n",
        "    rotated_wmh = torchvision.transforms.functional.rotate(wmh, angle)\r\n",
        "    return rotated_img, rotated_wmh\r\n",
        "\r\n",
        "  def flip(self, img, wmh): # Check if it properly works\r\n",
        "    flipped_img = torchvision.transforms.functional.hflip(img = img) # change to .vflip for vertical flip\r\n",
        "    flipped_wmh = torchvision.transforms.functional.hflip(img = wmh)\r\n",
        "    return flipped_img, flipped_wmh\r\n",
        "\r\n",
        "  def scale(self, img, wmh, range=0.2): # Check if it properly works\r\n",
        "    \"\"\"\r\n",
        "    Function to scale both the image and the wmh mask with a random range in the same way\r\n",
        "    The range parameter is a float that will create a scaled image in the range of 1+- range\r\n",
        "    has not yet been checked to see if it works\r\n",
        "    \"\"\"\r\n",
        "    scale = random.randrange((1-range)*1000, (1+range)*1000)/1000\r\n",
        "    scaled_img = torchvision.transforms.functional.affine(img=img, angle=0, translate=[0,0], shear=0, scale=scale)\r\n",
        "    scaled_wmh = torchvision.transforms.functional.affine(img=wmh, angle=0, translate=[0,0], shear=0, scale=scale)\r\n",
        "    return scaled_img, scaled_wmh\r\n",
        "\r\n",
        "  def shear(self, img, wmh, degrees): # Check if it properly works.\r\n",
        "    degree = np.random.randint(-degrees, degrees)\r\n",
        "    sheared_img = torchvision.transforms.functional.affine(img = img, shear = [degree],\r\n",
        "                                                         angle = 0, translate = [0,0], scale = 1)\r\n",
        "    sheared_wmh = torchvision.transforms.functional.affine(img = wmh, shear = [degree],\r\n",
        "                                                         angle = 0, translate = [0,0], scale = 1)\r\n",
        "    return sheared_img, sheared_wmh"
      ],
      "execution_count": null,
      "outputs": []
    },
    {
      "cell_type": "markdown",
      "metadata": {
        "id": "uBV64f_-f66i"
      },
      "source": [
        "## Provided Model With Modifications\r\n",
        "Call the augmentation method inside the corresponding if-statement of the __getitem__ function. If your data augmentation method requires an extra parameter (e.g. angle sequence for rotation) I'd recommend creating a tuple in the init function argument list and then unpacking this tuple in the function body (see rotation as example)."
      ]
    },
    {
      "cell_type": "code",
      "metadata": {
        "id": "4foDG5DS_Hct"
      },
      "source": [
        "class WMHDataset(torch.utils.data.Dataset):\n",
        "  # Datasets in Pytorch are classes of the torch.utils.data.Dataset type\n",
        "  # They __must__ have at least three methods:\n",
        "  # - __init__ -> Initialize the dataset, the place where you can pass parameters to it\n",
        "  # - __len__ -> How many samples does your dataset represent?\n",
        "  # - __getitem__ -> A function which takes a parameter i, and returns the ith sample of the dataset\n",
        "\n",
        "  # Note that this DOES NOT perform\n",
        "  # - Batching\n",
        "  # - Asynchronous dataloading (for speed)\n",
        "  # - Merge different datasets on the fly \n",
        "  # - shuffling the data\n",
        "  # More examples like these are solved with \"higher-order\" methods\n",
        "\n",
        "  # but it __might__ do:\n",
        "  # - data augmentation of one sample\n",
        "  # - data normalization of one sample\n",
        "  # - performing on-the-fly data generation\n",
        "  # - hides the nitty-gritty details of dealing with files\n",
        "  def __init__(self, institute, normalize = False, rotate = (False, 0) , flip = False, scale = False, shear = (False, 0)):\n",
        "    self.institute = institute # in this case, we make a dataset per institute\n",
        "    if self.institute == 'Amsterdam':\n",
        "      self.slices = 83\n",
        "      self.datafolder = glob(f'/content/drive/MyDrive/{self.institute}/GE3T/**') #this notation is called an f-string. It \"fills in\" the value of the variable in the string\n",
        "    else:\n",
        "      self.slices = 48\n",
        "      self.datafolder = glob(f'/content/drive/MyDrive/{self.institute}/**')\n",
        "    print(self.datafolder)\n",
        "\n",
        "    # Initializations for data augmentation\n",
        "    self.transforms = transforms()\n",
        "\n",
        "    # I'd suggest passing any extra parameters necessary for the transformation along with the variable as a tuple.\n",
        "    # Then unpack the tuple here and use it later, when applying the augmentation. This way those parameters are not fixed inside the class.\n",
        "    self.normalize = normalize\n",
        "    self.rotate, self.rotation_angle = rotate\n",
        "    self.flip = flip\n",
        "    self.scale = scale\n",
        "    self.shear, self.shear_angle = shear\n",
        "\n",
        "  def __len__(self): # the length is the number of patients scanned at the institute. Every patient is a subfolder in the institute folder\n",
        "    return len(self.datafolder) * self.slices\n",
        "\n",
        "  # This is a helper function to avoid repeating the same SimpleITK function calls to load the images\n",
        "  # It loads the Nifti files, gets a correctly spaced NumPy array, and creates a tensor\n",
        "  def read_image(self, path):\n",
        "    img = sitk.ReadImage(path)\n",
        "    img_as_numpy = sitk.GetArrayFromImage(img).astype('float') # the default type is uint16, which trips up PyTorch so we convert to float\n",
        "    img_as_tensor = torch.from_numpy(img_as_numpy)\n",
        "    return img_as_tensor\n",
        "\n",
        "  def __getitem__(self, i): # return the ith sample of the dataset, note that 0 <= i < len(dataset)\n",
        "    # A slice is considered a sample.\n",
        "\n",
        "    # do some math to check out which slice we want in which folder\n",
        "    folder_index = i // self.slices # Confusion arises. How does this work e.g. when i = 70, since there is no folder 1.\n",
        "    slice_index = i % self.slices\n",
        "    # first we get the paths to the T1 and FLAIR images, and the WMH mask\n",
        "    wmh_path = f'{self.datafolder[folder_index]}/wmh.nii.gz' # Aah so the index is for the array and the value is the actual one in the folder.\n",
        "    t1_path = f'{self.datafolder[folder_index]}/pre/T1.nii.gz'\n",
        "    flair_path = f'{self.datafolder[folder_index]}/pre/FLAIR.nii.gz'\n",
        "\n",
        "    # Actually load the Nifti files and create PyTorch tensors\n",
        "    wmh = self.read_image(wmh_path)\n",
        "    t1 = self.read_image(t1_path)\n",
        "    flair = self.read_image(flair_path)\n",
        "\n",
        "    # TODO: Data from different institutes are not the same size, crop?\n",
        "    _, x, y = wmh.size()\n",
        "    train_tensor = torch.zeros((1, x, y)) # Use only one to avoid error shown.\n",
        "    target_tensor = torch.zeros((1, x, y))\n",
        "\n",
        "    # train_tensor[0, ...] = t1[slice_index, ...]\n",
        "    train_tensor[0, ...] = flair[slice_index, ...] # Suppose only using t1 images to avoid the warning. Put Flair in 0 was in 1.\n",
        "\n",
        "    target_tensor[0, ...] = wmh[slice_index, ...]\n",
        "\n",
        "    # Apply normalization\n",
        "    if self.normalize:\n",
        "      train_tensor = self.transforms.normalize(train_tensor, 0, 1)\n",
        "\n",
        "    # Apply data augmentation\n",
        "    if self.rotate:\n",
        "      train_tensor, target_tensor = self.transforms.rotate(train_tensor, target_tensor, self.rotation_angle)\n",
        "    \n",
        "    if self.flip:\n",
        "      train_tensor, target_tensor = self.transforms.flip(train_tensor, target_tensor)\n",
        "    \n",
        "    if self.scale:\n",
        "      train_tensor, target_tensor = self.transforms.scale(train_tensor, target_tensor)\n",
        "    \n",
        "    if self.shear:\n",
        "      train_tensor, target_tensor = self.transforms.shear(train_tensor, target_tensor, self.shear_angle)\n",
        "\n",
        "    # Return the samples as PyTorch tensors\n",
        "    return train_tensor, target_tensor\n"
      ],
      "execution_count": null,
      "outputs": []
    },
    {
      "cell_type": "code",
      "metadata": {
        "colab": {
          "base_uri": "https://localhost:8080/"
        },
        "id": "7wnxJ7Bt-_Do",
        "outputId": "9e40b25a-3171-4ed1-dd0a-32637c110d7c"
      },
      "source": [
        "#Load the data\n",
        "dataset = WMHDataset('Utrecht') # Note this dataset is now already normalized.\n",
        "print(dataset.datafolder[0]) # I think if we remove the first 3 * 48 samples that corresponds with removing the first 3 folders shown below.\n",
        "len(dataset)"
      ],
      "execution_count": null,
      "outputs": [
        {
          "output_type": "stream",
          "text": [
            "['/content/drive/MyDrive/Utrecht/27', '/content/drive/MyDrive/Utrecht/17', '/content/drive/MyDrive/Utrecht/23', '/content/drive/MyDrive/Utrecht/0', '/content/drive/MyDrive/Utrecht/11', '/content/drive/MyDrive/Utrecht/2', '/content/drive/MyDrive/Utrecht/29', '/content/drive/MyDrive/Utrecht/21', '/content/drive/MyDrive/Utrecht/19', '/content/drive/MyDrive/Utrecht/25', '/content/drive/MyDrive/Utrecht/4', '/content/drive/MyDrive/Utrecht/41', '/content/drive/MyDrive/Utrecht/31', '/content/drive/MyDrive/Utrecht/39', '/content/drive/MyDrive/Utrecht/49', '/content/drive/MyDrive/Utrecht/6', '/content/drive/MyDrive/Utrecht/35', '/content/drive/MyDrive/Utrecht/37', '/content/drive/MyDrive/Utrecht/33', '/content/drive/MyDrive/Utrecht/8']\n",
            "/content/drive/MyDrive/Utrecht/27\n"
          ],
          "name": "stdout"
        },
        {
          "output_type": "execute_result",
          "data": {
            "text/plain": [
              "960"
            ]
          },
          "metadata": {
            "tags": []
          },
          "execution_count": 7
        }
      ]
    },
    {
      "cell_type": "code",
      "metadata": {
        "id": "jGRsH1Is_e8B",
        "colab": {
          "base_uri": "https://localhost:8080/"
        },
        "outputId": "ced44912-79d6-4f34-aada-47a650f9a6b2"
      },
      "source": [
        "#Take a look at what the data looks like\n",
        "train, target = dataset[323] # OG: 323\n",
        "train.size() # Note: t1 in 0 and flair in 1."
      ],
      "execution_count": null,
      "outputs": [
        {
          "output_type": "execute_result",
          "data": {
            "text/plain": [
              "torch.Size([1, 240, 240])"
            ]
          },
          "metadata": {
            "tags": []
          },
          "execution_count": 8
        }
      ]
    },
    {
      "cell_type": "code",
      "metadata": {
        "id": "Rfu9YMh5Ee7o",
        "colab": {
          "base_uri": "https://localhost:8080/",
          "height": 846
        },
        "outputId": "cec36c6e-b75e-4ff0-aba6-e07e409db649"
      },
      "source": [
        "# create the figure\n",
        "showFig = 'yes'\n",
        "\n",
        "if showFig=='yes':\n",
        "  f, ax = plt.subplots(1, 3, figsize=(15, 15))\n",
        "\n",
        "  # turn off axis to remove ticks and such\n",
        "  [a.axis('off') for a in ax]\n",
        "\n",
        "  # Here we plot it at the actual subplot we want. We set the colormap to gray (feel free to experiment)\n",
        "  # t1_plot = ax[0].imshow(train[0, :, :], cmap='gray')\n",
        "  flair_plot = ax[1].imshow(train[0, :, :], cmap='gray') # Was one but we only working with flair for now.\n",
        "  wmh_plot = ax[2].imshow(target[0, :, :], cmap='gray')\n",
        "\n",
        "  # Add titles and colorbar\n",
        "  # ax[0].set_title('T1')\n",
        "  ax[1].set_title('FLAIR')\n",
        "  ax[2].set_title('White-matter Hyperintensity mask')\n",
        "\n",
        "  # f.colorbar(t1_plot, ax=ax[0], shrink=0.25)\n",
        "  f.colorbar(flair_plot, ax=ax[1], shrink=0.25)\n",
        "  f.colorbar(wmh_plot, ax=ax[2], shrink=0.25)"
      ],
      "execution_count": null,
      "outputs": [
        {
          "output_type": "display_data",
          "data": {
            "image/png": "[encoded data removed]",
            "text/plain": [
              "<Figure size 1080x1080 with 5 Axes>"
            ]
          },
          "metadata": {
            "tags": [],
            "needs_background": "light"
          }
        }
      ]
    },
    {
      "cell_type": "code",
      "metadata": {
        "id": "OZ-iiYedF-pO"
      },
      "source": [
        "import torch.nn as nn # Basic building blocks (containers, different layers ect.)\n",
        "\n",
        "def double_conv(in_channels, out_channels): \n",
        "    return nn.Sequential( # a sequential container, elements are kept in order\n",
        "        nn.Conv2d(in_channels, out_channels, 3, padding=1),\n",
        "        # 3 is the size of the kernel? Padding is zero padding  \n",
        "        nn.ReLU(inplace=True),\n",
        "        # Activation function ReLU = applies the rectified linear unit function element wise \n",
        "        nn.Conv2d(out_channels, out_channels, 3, padding=1),\n",
        "        nn.ReLU(inplace=True)\n",
        "    )   \n",
        "\n",
        "\n",
        "class UNet(nn.Module):\n",
        "  # nn.Module is the base class for all neural network modules\n",
        "\n",
        "    def __init__(self, n_class, n_channels):\n",
        "      #Initialization, number of classes, number of channels\n",
        "        super().__init__()\n",
        "        # The U-shape         \n",
        "        self.dconv_down1 = double_conv(n_channels, 64)\n",
        "        self.dconv_down2 = double_conv(64, 128)\n",
        "        self.dconv_down3 = double_conv(128, 256)\n",
        "        self.dconv_down4 = double_conv(256, 512)        \n",
        "\n",
        "        self.maxpool = nn.MaxPool2d(2) # a 2x2 kernel \n",
        "        self.upsample = nn.Upsample(scale_factor=2, mode='bilinear', align_corners=True)        \n",
        "        \n",
        "        self.dconv_up3 = double_conv(256 + 512, 256)\n",
        "        self.dconv_up2 = double_conv(128 + 256, 128)\n",
        "        self.dconv_up1 = double_conv(128 + 64, 64)\n",
        "        \n",
        "        self.conv_last = nn.Conv2d(64, n_class, 1)\n",
        "        \n",
        "        \n",
        "    def forward(self, x):\n",
        "        conv1 = self.dconv_down1(x)\n",
        "        x = self.maxpool(conv1)\n",
        "\n",
        "        conv2 = self.dconv_down2(x)\n",
        "        x = self.maxpool(conv2)\n",
        "        \n",
        "        conv3 = self.dconv_down3(x)\n",
        "        x = self.maxpool(conv3)   \n",
        "        \n",
        "        x = self.dconv_down4(x)\n",
        "        \n",
        "        x = self.upsample(x)        \n",
        "        x = torch.cat([x, conv3], dim=1)\n",
        "        \n",
        "        x = self.dconv_up3(x)\n",
        "        x = self.upsample(x)        \n",
        "        x = torch.cat([x, conv2], dim=1)       \n",
        "\n",
        "        x = self.dconv_up2(x)\n",
        "        x = self.upsample(x)        \n",
        "        x = torch.cat([x, conv1], dim=1)   \n",
        "        \n",
        "        x = self.dconv_up1(x)\n",
        "        \n",
        "        out = self.conv_last(x)\n",
        "        \n",
        "        return out"
      ],
      "execution_count": null,
      "outputs": []
    },
    {
      "cell_type": "code",
      "metadata": {
        "id": "6UfoJDVZRuv6"
      },
      "source": [
        "def train_epoch(model, optimizer, train_loader, lossfunction, device='cuda'):\n",
        "  model.train()\n",
        "  total_loss = 0\n",
        "  for batch_idx, (train, target) in enumerate(tqdm(train_loader)):\n",
        "    train, target = train.to(device), target.to(device)\n",
        "    optimizer.zero_grad()\n",
        "    output = model(train)\n",
        "    loss = lossfunction(target, output)\n",
        "    total_loss += loss.item()\n",
        "    loss.backward()\n",
        "    optimizer.step()\n",
        "\n",
        "  return total_loss / len(train_loader)"
      ],
      "execution_count": null,
      "outputs": []
    },
    {
      "cell_type": "code",
      "metadata": {
        "id": "Xx4TaSZOSPit"
      },
      "source": [
        "def test_epoch(model, test_loader, eval_function, device='cuda'):\n",
        "  model.eval()\n",
        "  total_loss = 0\n",
        "  with torch.no_grad():\n",
        "    for batch_idx, (train, target) in enumerate(tqdm(test_loader)):\n",
        "      train, target = train.to(device), target.to(device) \n",
        "      output = model(train)\n",
        "      loss = eval_function(target, output)\n",
        "      total_loss += loss.item()\n",
        "\n",
        "  return total_loss / len(test_loader)"
      ],
      "execution_count": null,
      "outputs": []
    },
    {
      "cell_type": "code",
      "metadata": {
        "id": "hQBV_TTYSnOO"
      },
      "source": [
        "def train_model(train_loader, test_loader, optimizer, lossfunction, eval_function=None, epochs=25, device='cuda'):\n",
        "  if eval_function is None:\n",
        "    eval_function = lossfunction\n",
        "  train_losses = []\n",
        "  test_losses = []\n",
        "  for epoch in range(epochs):\n",
        "    print('[Epoch %d / %d]' % (epoch + 1, epochs))\n",
        "    train_loss = train_epoch(model, optimizer, train_loader, lossfunction, device)\n",
        "    test_loss = test_epoch(model, test_loader, eval_function, device)\n",
        "    train_losses.append(train_loss)\n",
        "    test_losses.append(test_loss)\n",
        "  return train_losses, test_losses"
      ],
      "execution_count": null,
      "outputs": []
    },
    {
      "cell_type": "code",
      "metadata": {
        "id": "ICVH1_sOF9HX"
      },
      "source": [
        "import torch.optim as optim\n",
        "\n",
        "device='cuda'\n",
        "model = UNet(1,1)\n",
        "model = model.to(device)\n",
        "optimizer = optim.Adam(model.parameters(), lr=2e-5)"
      ],
      "execution_count": null,
      "outputs": []
    },
    {
      "cell_type": "markdown",
      "metadata": {
        "id": "J04l2J4aLhYy"
      },
      "source": [
        "# Increase dataset with augmentations\r\n",
        "Note: I'd suggest creating proper variable names for the specific augmentation happening."
      ]
    },
    {
      "cell_type": "code",
      "metadata": {
        "colab": {
          "base_uri": "https://localhost:8080/"
        },
        "id": "oJEXC69HLgfG",
        "outputId": "d562936d-b812-4fce-c4e5-f2ca0cc674e1"
      },
      "source": [
        "# Modifications on dataset should come bout here, in this and next cell.\r\n",
        "dataset_all_transforms = WMHDataset('Utrecht', rotate = (True, (-18, 18)), shear=(True, 30), scale =True, flip = True)\r\n"
      ],
      "execution_count": null,
      "outputs": [
        {
          "output_type": "stream",
          "text": [
            "['/content/drive/MyDrive/Utrecht/27', '/content/drive/MyDrive/Utrecht/17', '/content/drive/MyDrive/Utrecht/23', '/content/drive/MyDrive/Utrecht/0', '/content/drive/MyDrive/Utrecht/11', '/content/drive/MyDrive/Utrecht/2', '/content/drive/MyDrive/Utrecht/29', '/content/drive/MyDrive/Utrecht/21', '/content/drive/MyDrive/Utrecht/19', '/content/drive/MyDrive/Utrecht/25', '/content/drive/MyDrive/Utrecht/4', '/content/drive/MyDrive/Utrecht/41', '/content/drive/MyDrive/Utrecht/31', '/content/drive/MyDrive/Utrecht/39', '/content/drive/MyDrive/Utrecht/49', '/content/drive/MyDrive/Utrecht/6', '/content/drive/MyDrive/Utrecht/35', '/content/drive/MyDrive/Utrecht/37', '/content/drive/MyDrive/Utrecht/33', '/content/drive/MyDrive/Utrecht/8']\n"
          ],
          "name": "stdout"
        }
      ]
    },
    {
      "cell_type": "markdown",
      "metadata": {
        "id": "h_iNNJ59VgF5"
      },
      "source": [
        "## Take a look at the augmented dataset\r\n",
        "\r\n",
        "This is the aforementioned place to check and test if the implemented augmentation works for both the image and target and if the applied augmentation is the same for both."
      ]
    },
    {
      "cell_type": "code",
      "metadata": {
        "id": "GgCzA4Pmq8BS",
        "colab": {
          "base_uri": "https://localhost:8080/",
          "height": 846
        },
        "outputId": "d49486f7-fcdd-425d-d093-40805f5ef18e"
      },
      "source": [
        "#Take a look at what the data looks like\n",
        "train_rotated, target_rotated = dataset_all_transforms[323] # OG:323\n",
        "\n",
        "# create the figure\n",
        "showFig_rotated = 'yes'\n",
        "\n",
        "if showFig_rotated=='yes':\n",
        "  f, ax = plt.subplots(1, 3, figsize=(15, 15))\n",
        "\n",
        "  # turn off axis to remove ticks and such\n",
        "  [a.axis('off') for a in ax]\n",
        "\n",
        "  # Here we plot it at the actual subplot we want. We set the colormap to gray (feel free to experiment)\n",
        "  # t1_plot = ax[0].imshow(train[0, :, :], cmap='gray')\n",
        "  flair_plot_rotated = ax[1].imshow(train_rotated[0, :, :], cmap='gray') # Was one but we only working with flair for now.\n",
        "  wmh_plot_rotated = ax[2].imshow(target_rotated[0, :, :], cmap='gray')\n",
        "\n",
        "  # Add titles and colorbar\n",
        "  # ax[0].set_title('T1')\n",
        "  ax[1].set_title('FLAIR')\n",
        "  ax[2].set_title('White-matter Hyperintensity mask')\n",
        "\n",
        "  # f.colorbar(t1_plot, ax=ax[0], shrink=0.25)\n",
        "  f.colorbar(flair_plot_rotated, ax=ax[1], shrink=0.25)\n",
        "  f.colorbar(wmh_plot_rotated, ax=ax[2], shrink=0.25)\n",
        "\n",
        "\n",
        "\n",
        "\n",
        "\n",
        "\n",
        "  "
      ],
      "execution_count": null,
      "outputs": [
        {
          "output_type": "display_data",
          "data": {
            "image/png": "[encoded data removed]",
            "text/plain": [
              "<Figure size 1080x1080 with 5 Axes>"
            ]
          },
          "metadata": {
            "tags": [],
            "needs_background": "light"
          }
        }
      ]
    },
    {
      "cell_type": "markdown",
      "metadata": {
        "id": "vGQcZ1cjWjfp"
      },
      "source": [
        "## Increase the dataset"
      ]
    },
    {
      "cell_type": "code",
      "metadata": {
        "colab": {
          "base_uri": "https://localhost:8080/"
        },
        "id": "Rm4I4uxbLYhZ",
        "outputId": "7bdcf549-cd3c-4add-f6c3-8bc499841e33"
      },
      "source": [
        "print(\"First three folders of dataset:\", dataset.datafolder[0], dataset.datafolder[1], dataset.datafolder[2])\r\n",
        "print(\"Amount of slices per subject\", dataset.slices)\r\n",
        "print(\"Calculated test samples\", 3 * dataset.slices)\r\n",
        "\r\n",
        "amount_of_test_samples = 3 * dataset.slices\r\n",
        "\r\n",
        "indices = list(range(len(dataset)))\r\n",
        "\r\n",
        "test_indices = indices[:amount_of_test_samples]\r\n",
        "train_indices = indices[amount_of_test_samples:]\r\n",
        "\r\n",
        "print(\"Test indices:\", test_indices)\r\n",
        "# print(\"Amount of test indices:\", len(test_indices))\r\n",
        "# print(\"Train indices\", train_indices)\r\n",
        "\r\n",
        "# First seperate train and test from the real data.\r\n",
        "dataset_train = torch.utils.data.Subset(dataset, train_indices)\r\n",
        "dataset_test = torch.utils.data.Subset(dataset, test_indices)\r\n",
        "\r\n",
        "# Seperate the samples used for testing also from the augmented data set.\r\n",
        "# If this is not necessary then remove line below and replace dataset_rotated_train with dataset_rotated in the line after that.\r\n",
        "print(\"First three folders of dataset_rotated:\", dataset_all_transforms.datafolder[0], dataset_all_transforms.datafolder[1], dataset_all_transforms.datafolder[2])\r\n",
        "dataset_all_transforms = torch.utils.data.Subset(dataset_all_transforms, train_indices)\r\n",
        "\r\n",
        "# Then add augmented dataset to training dataset.\r\n",
        "dataset_train = torch.utils.data.ConcatDataset([dataset_train, dataset_all_transforms])\r\n",
        "\r\n",
        "print(\"\")\r\n",
        "print(\"Length of training set: \", len(dataset_train), \"\\nLength of test set: \", len(dataset_test))"
      ],
      "execution_count": null,
      "outputs": [
        {
          "output_type": "stream",
          "text": [
            "First three folders of dataset: /content/drive/MyDrive/Utrecht/27 /content/drive/MyDrive/Utrecht/17 /content/drive/MyDrive/Utrecht/23\n",
            "Amount of slices per subject 48\n",
            "Calculated test samples 144\n",
            "Test indices: [0, 1, 2, 3, 4, 5, 6, 7, 8, 9, 10, 11, 12, 13, 14, 15, 16, 17, 18, 19, 20, 21, 22, 23, 24, 25, 26, 27, 28, 29, 30, 31, 32, 33, 34, 35, 36, 37, 38, 39, 40, 41, 42, 43, 44, 45, 46, 47, 48, 49, 50, 51, 52, 53, 54, 55, 56, 57, 58, 59, 60, 61, 62, 63, 64, 65, 66, 67, 68, 69, 70, 71, 72, 73, 74, 75, 76, 77, 78, 79, 80, 81, 82, 83, 84, 85, 86, 87, 88, 89, 90, 91, 92, 93, 94, 95, 96, 97, 98, 99, 100, 101, 102, 103, 104, 105, 106, 107, 108, 109, 110, 111, 112, 113, 114, 115, 116, 117, 118, 119, 120, 121, 122, 123, 124, 125, 126, 127, 128, 129, 130, 131, 132, 133, 134, 135, 136, 137, 138, 139, 140, 141, 142, 143]\n",
            "First three folders of dataset_rotated: /content/drive/MyDrive/Utrecht/27 /content/drive/MyDrive/Utrecht/17 /content/drive/MyDrive/Utrecht/23\n",
            "\n",
            "Length of training set:  1632 \n",
            "Length of test set:  144\n"
          ],
          "name": "stdout"
        }
      ]
    },
    {
      "cell_type": "markdown",
      "metadata": {
        "id": "nZpNjOB7k0eC"
      },
      "source": [
        "# Start Training"
      ]
    },
    {
      "cell_type": "code",
      "metadata": {
        "id": "7KOT_l0GTPT_",
        "colab": {
          "base_uri": "https://localhost:8080/",
          "height": 386,
          "referenced_widgets": [
            "5948d3a40d9a46a39dd85fb1c2912fdc",
            "824eed7c001b474996cb90d874ddacd4",
            "ce67b46e8a594b5db802dd1290e5c3c5",
            "27683275dc0f47a192cd9bf2820a748e",
            "e2a0b0e8ad1744bfbff3643e7aef2d46",
            "8452d1f9b31a4d12acb278fa6d13037f",
            "edb0b951775d4050bf7825813412e4a3",
            "ce91def4338d48aab488f9673e806100"
          ]
        },
        "outputId": "b95d6f9a-7f31-4dac-e03f-46ec2f9ddff5"
      },
      "source": [
        "train_loader = torch.utils.data.DataLoader(dataset_train, batch_size = 4, shuffle=True) # add num_workers parameter, put it to something 2-4. And maybe increase batch_size.\n",
        "test_loader = torch.utils.data.DataLoader(dataset_test, batch_size = 4, shuffle=False)\n",
        "\n",
        "losses = train_model(train_loader, test_loader, optimizer, torch.nn.MSELoss(), device=device, epochs=30)"
      ],
      "execution_count": null,
      "outputs": [
        {
          "output_type": "stream",
          "text": [
            "[Epoch 1 / 30]\n"
          ],
          "name": "stdout"
        },
        {
          "output_type": "display_data",
          "data": {
            "application/vnd.jupyter.widget-view+json": {
              "model_id": "5948d3a40d9a46a39dd85fb1c2912fdc",
              "version_minor": 0,
              "version_major": 2
            },
            "text/plain": [
              "HBox(children=(FloatProgress(value=0.0, max=408.0), HTML(value='')))"
            ]
          },
          "metadata": {
            "tags": []
          }
        },
        {
          "output_type": "error",
          "ename": "KeyboardInterrupt",
          "evalue": "ignored",
          "traceback": [
            "\u001b[0;31m---------------------------------------------------------------------------\u001b[0m",
            "\u001b[0;31mKeyboardInterrupt\u001b[0m                         Traceback (most recent call last)",
            "\u001b[0;32m<ipython-input-22-37255ce8976b>\u001b[0m in \u001b[0;36m<module>\u001b[0;34m()\u001b[0m\n\u001b[1;32m      2\u001b[0m \u001b[0mtest_loader\u001b[0m \u001b[0;34m=\u001b[0m \u001b[0mtorch\u001b[0m\u001b[0;34m.\u001b[0m\u001b[0mutils\u001b[0m\u001b[0;34m.\u001b[0m\u001b[0mdata\u001b[0m\u001b[0;34m.\u001b[0m\u001b[0mDataLoader\u001b[0m\u001b[0;34m(\u001b[0m\u001b[0mdataset_test\u001b[0m\u001b[0;34m,\u001b[0m \u001b[0mbatch_size\u001b[0m \u001b[0;34m=\u001b[0m \u001b[0;36m4\u001b[0m\u001b[0;34m,\u001b[0m \u001b[0mshuffle\u001b[0m\u001b[0;34m=\u001b[0m\u001b[0;32mFalse\u001b[0m\u001b[0;34m)\u001b[0m\u001b[0;34m\u001b[0m\u001b[0;34m\u001b[0m\u001b[0m\n\u001b[1;32m      3\u001b[0m \u001b[0;34m\u001b[0m\u001b[0m\n\u001b[0;32m----> 4\u001b[0;31m \u001b[0mlosses\u001b[0m \u001b[0;34m=\u001b[0m \u001b[0mtrain_model\u001b[0m\u001b[0;34m(\u001b[0m\u001b[0mtrain_loader\u001b[0m\u001b[0;34m,\u001b[0m \u001b[0mtest_loader\u001b[0m\u001b[0;34m,\u001b[0m \u001b[0moptimizer\u001b[0m\u001b[0;34m,\u001b[0m \u001b[0mtorch\u001b[0m\u001b[0;34m.\u001b[0m\u001b[0mnn\u001b[0m\u001b[0;34m.\u001b[0m\u001b[0mMSELoss\u001b[0m\u001b[0;34m(\u001b[0m\u001b[0;34m)\u001b[0m\u001b[0;34m,\u001b[0m \u001b[0mdevice\u001b[0m\u001b[0;34m=\u001b[0m\u001b[0mdevice\u001b[0m\u001b[0;34m,\u001b[0m \u001b[0mepochs\u001b[0m\u001b[0;34m=\u001b[0m\u001b[0;36m30\u001b[0m\u001b[0;34m)\u001b[0m\u001b[0;34m\u001b[0m\u001b[0;34m\u001b[0m\u001b[0m\n\u001b[0m",
            "\u001b[0;32m<ipython-input-13-aba7f5b339db>\u001b[0m in \u001b[0;36mtrain_model\u001b[0;34m(train_loader, test_loader, optimizer, lossfunction, eval_function, epochs, device)\u001b[0m\n\u001b[1;32m      6\u001b[0m   \u001b[0;32mfor\u001b[0m \u001b[0mepoch\u001b[0m \u001b[0;32min\u001b[0m \u001b[0mrange\u001b[0m\u001b[0;34m(\u001b[0m\u001b[0mepochs\u001b[0m\u001b[0;34m)\u001b[0m\u001b[0;34m:\u001b[0m\u001b[0;34m\u001b[0m\u001b[0;34m\u001b[0m\u001b[0m\n\u001b[1;32m      7\u001b[0m     \u001b[0mprint\u001b[0m\u001b[0;34m(\u001b[0m\u001b[0;34m'[Epoch %d / %d]'\u001b[0m \u001b[0;34m%\u001b[0m \u001b[0;34m(\u001b[0m\u001b[0mepoch\u001b[0m \u001b[0;34m+\u001b[0m \u001b[0;36m1\u001b[0m\u001b[0;34m,\u001b[0m \u001b[0mepochs\u001b[0m\u001b[0;34m)\u001b[0m\u001b[0;34m)\u001b[0m\u001b[0;34m\u001b[0m\u001b[0;34m\u001b[0m\u001b[0m\n\u001b[0;32m----> 8\u001b[0;31m     \u001b[0mtrain_loss\u001b[0m \u001b[0;34m=\u001b[0m \u001b[0mtrain_epoch\u001b[0m\u001b[0;34m(\u001b[0m\u001b[0mmodel\u001b[0m\u001b[0;34m,\u001b[0m \u001b[0moptimizer\u001b[0m\u001b[0;34m,\u001b[0m \u001b[0mtrain_loader\u001b[0m\u001b[0;34m,\u001b[0m \u001b[0mlossfunction\u001b[0m\u001b[0;34m,\u001b[0m \u001b[0mdevice\u001b[0m\u001b[0;34m)\u001b[0m\u001b[0;34m\u001b[0m\u001b[0;34m\u001b[0m\u001b[0m\n\u001b[0m\u001b[1;32m      9\u001b[0m     \u001b[0mtest_loss\u001b[0m \u001b[0;34m=\u001b[0m \u001b[0mtest_epoch\u001b[0m\u001b[0;34m(\u001b[0m\u001b[0mmodel\u001b[0m\u001b[0;34m,\u001b[0m \u001b[0mtest_loader\u001b[0m\u001b[0;34m,\u001b[0m \u001b[0meval_function\u001b[0m\u001b[0;34m,\u001b[0m \u001b[0mdevice\u001b[0m\u001b[0;34m)\u001b[0m\u001b[0;34m\u001b[0m\u001b[0;34m\u001b[0m\u001b[0m\n\u001b[1;32m     10\u001b[0m     \u001b[0mtrain_losses\u001b[0m\u001b[0;34m.\u001b[0m\u001b[0mappend\u001b[0m\u001b[0;34m(\u001b[0m\u001b[0mtrain_loss\u001b[0m\u001b[0;34m)\u001b[0m\u001b[0;34m\u001b[0m\u001b[0;34m\u001b[0m\u001b[0m\n",
            "\u001b[0;32m<ipython-input-11-d81f6d02b48f>\u001b[0m in \u001b[0;36mtrain_epoch\u001b[0;34m(model, optimizer, train_loader, lossfunction, device)\u001b[0m\n\u001b[1;32m      2\u001b[0m   \u001b[0mmodel\u001b[0m\u001b[0;34m.\u001b[0m\u001b[0mtrain\u001b[0m\u001b[0;34m(\u001b[0m\u001b[0;34m)\u001b[0m\u001b[0;34m\u001b[0m\u001b[0;34m\u001b[0m\u001b[0m\n\u001b[1;32m      3\u001b[0m   \u001b[0mtotal_loss\u001b[0m \u001b[0;34m=\u001b[0m \u001b[0;36m0\u001b[0m\u001b[0;34m\u001b[0m\u001b[0;34m\u001b[0m\u001b[0m\n\u001b[0;32m----> 4\u001b[0;31m   \u001b[0;32mfor\u001b[0m \u001b[0mbatch_idx\u001b[0m\u001b[0;34m,\u001b[0m \u001b[0;34m(\u001b[0m\u001b[0mtrain\u001b[0m\u001b[0;34m,\u001b[0m \u001b[0mtarget\u001b[0m\u001b[0;34m)\u001b[0m \u001b[0;32min\u001b[0m \u001b[0menumerate\u001b[0m\u001b[0;34m(\u001b[0m\u001b[0mtqdm\u001b[0m\u001b[0;34m(\u001b[0m\u001b[0mtrain_loader\u001b[0m\u001b[0;34m)\u001b[0m\u001b[0;34m)\u001b[0m\u001b[0;34m:\u001b[0m\u001b[0;34m\u001b[0m\u001b[0;34m\u001b[0m\u001b[0m\n\u001b[0m\u001b[1;32m      5\u001b[0m     \u001b[0mtrain\u001b[0m\u001b[0;34m,\u001b[0m \u001b[0mtarget\u001b[0m \u001b[0;34m=\u001b[0m \u001b[0mtrain\u001b[0m\u001b[0;34m.\u001b[0m\u001b[0mto\u001b[0m\u001b[0;34m(\u001b[0m\u001b[0mdevice\u001b[0m\u001b[0;34m)\u001b[0m\u001b[0;34m,\u001b[0m \u001b[0mtarget\u001b[0m\u001b[0;34m.\u001b[0m\u001b[0mto\u001b[0m\u001b[0;34m(\u001b[0m\u001b[0mdevice\u001b[0m\u001b[0;34m)\u001b[0m\u001b[0;34m\u001b[0m\u001b[0;34m\u001b[0m\u001b[0m\n\u001b[1;32m      6\u001b[0m     \u001b[0moptimizer\u001b[0m\u001b[0;34m.\u001b[0m\u001b[0mzero_grad\u001b[0m\u001b[0;34m(\u001b[0m\u001b[0;34m)\u001b[0m\u001b[0;34m\u001b[0m\u001b[0;34m\u001b[0m\u001b[0m\n",
            "\u001b[0;32m/usr/local/lib/python3.6/dist-packages/tqdm/notebook.py\u001b[0m in \u001b[0;36m__iter__\u001b[0;34m(self, *args, **kwargs)\u001b[0m\n\u001b[1;32m    213\u001b[0m     \u001b[0;32mdef\u001b[0m \u001b[0m__iter__\u001b[0m\u001b[0;34m(\u001b[0m\u001b[0mself\u001b[0m\u001b[0;34m,\u001b[0m \u001b[0;34m*\u001b[0m\u001b[0margs\u001b[0m\u001b[0;34m,\u001b[0m \u001b[0;34m**\u001b[0m\u001b[0mkwargs\u001b[0m\u001b[0;34m)\u001b[0m\u001b[0;34m:\u001b[0m\u001b[0;34m\u001b[0m\u001b[0;34m\u001b[0m\u001b[0m\n\u001b[1;32m    214\u001b[0m         \u001b[0;32mtry\u001b[0m\u001b[0;34m:\u001b[0m\u001b[0;34m\u001b[0m\u001b[0;34m\u001b[0m\u001b[0m\n\u001b[0;32m--> 215\u001b[0;31m             \u001b[0;32mfor\u001b[0m \u001b[0mobj\u001b[0m \u001b[0;32min\u001b[0m \u001b[0msuper\u001b[0m\u001b[0;34m(\u001b[0m\u001b[0mtqdm_notebook\u001b[0m\u001b[0;34m,\u001b[0m \u001b[0mself\u001b[0m\u001b[0;34m)\u001b[0m\u001b[0;34m.\u001b[0m\u001b[0m__iter__\u001b[0m\u001b[0;34m(\u001b[0m\u001b[0;34m*\u001b[0m\u001b[0margs\u001b[0m\u001b[0;34m,\u001b[0m \u001b[0;34m**\u001b[0m\u001b[0mkwargs\u001b[0m\u001b[0;34m)\u001b[0m\u001b[0;34m:\u001b[0m\u001b[0;34m\u001b[0m\u001b[0;34m\u001b[0m\u001b[0m\n\u001b[0m\u001b[1;32m    216\u001b[0m                 \u001b[0;31m# return super(tqdm...) will not catch exception\u001b[0m\u001b[0;34m\u001b[0m\u001b[0;34m\u001b[0m\u001b[0;34m\u001b[0m\u001b[0m\n\u001b[1;32m    217\u001b[0m                 \u001b[0;32myield\u001b[0m \u001b[0mobj\u001b[0m\u001b[0;34m\u001b[0m\u001b[0;34m\u001b[0m\u001b[0m\n",
            "\u001b[0;32m/usr/local/lib/python3.6/dist-packages/tqdm/std.py\u001b[0m in \u001b[0;36m__iter__\u001b[0;34m(self)\u001b[0m\n\u001b[1;32m   1102\u001b[0m                 fp_write=getattr(self.fp, 'write', sys.stderr.write))\n\u001b[1;32m   1103\u001b[0m \u001b[0;34m\u001b[0m\u001b[0m\n\u001b[0;32m-> 1104\u001b[0;31m         \u001b[0;32mfor\u001b[0m \u001b[0mobj\u001b[0m \u001b[0;32min\u001b[0m \u001b[0miterable\u001b[0m\u001b[0;34m:\u001b[0m\u001b[0;34m\u001b[0m\u001b[0;34m\u001b[0m\u001b[0m\n\u001b[0m\u001b[1;32m   1105\u001b[0m             \u001b[0;32myield\u001b[0m \u001b[0mobj\u001b[0m\u001b[0;34m\u001b[0m\u001b[0;34m\u001b[0m\u001b[0m\n\u001b[1;32m   1106\u001b[0m             \u001b[0;31m# Update and possibly print the progressbar.\u001b[0m\u001b[0;34m\u001b[0m\u001b[0;34m\u001b[0m\u001b[0;34m\u001b[0m\u001b[0m\n",
            "\u001b[0;32m/usr/local/lib/python3.6/dist-packages/torch/utils/data/dataloader.py\u001b[0m in \u001b[0;36m__next__\u001b[0;34m(self)\u001b[0m\n\u001b[1;32m    433\u001b[0m         \u001b[0;32mif\u001b[0m \u001b[0mself\u001b[0m\u001b[0;34m.\u001b[0m\u001b[0m_sampler_iter\u001b[0m \u001b[0;32mis\u001b[0m \u001b[0;32mNone\u001b[0m\u001b[0;34m:\u001b[0m\u001b[0;34m\u001b[0m\u001b[0;34m\u001b[0m\u001b[0m\n\u001b[1;32m    434\u001b[0m             \u001b[0mself\u001b[0m\u001b[0;34m.\u001b[0m\u001b[0m_reset\u001b[0m\u001b[0;34m(\u001b[0m\u001b[0;34m)\u001b[0m\u001b[0;34m\u001b[0m\u001b[0;34m\u001b[0m\u001b[0m\n\u001b[0;32m--> 435\u001b[0;31m         \u001b[0mdata\u001b[0m \u001b[0;34m=\u001b[0m \u001b[0mself\u001b[0m\u001b[0;34m.\u001b[0m\u001b[0m_next_data\u001b[0m\u001b[0;34m(\u001b[0m\u001b[0;34m)\u001b[0m\u001b[0;34m\u001b[0m\u001b[0;34m\u001b[0m\u001b[0m\n\u001b[0m\u001b[1;32m    436\u001b[0m         \u001b[0mself\u001b[0m\u001b[0;34m.\u001b[0m\u001b[0m_num_yielded\u001b[0m \u001b[0;34m+=\u001b[0m \u001b[0;36m1\u001b[0m\u001b[0;34m\u001b[0m\u001b[0;34m\u001b[0m\u001b[0m\n\u001b[1;32m    437\u001b[0m         \u001b[0;32mif\u001b[0m \u001b[0mself\u001b[0m\u001b[0;34m.\u001b[0m\u001b[0m_dataset_kind\u001b[0m \u001b[0;34m==\u001b[0m \u001b[0m_DatasetKind\u001b[0m\u001b[0;34m.\u001b[0m\u001b[0mIterable\u001b[0m \u001b[0;32mand\u001b[0m\u001b[0;31m \u001b[0m\u001b[0;31m\\\u001b[0m\u001b[0;34m\u001b[0m\u001b[0;34m\u001b[0m\u001b[0m\n",
            "\u001b[0;32m/usr/local/lib/python3.6/dist-packages/torch/utils/data/dataloader.py\u001b[0m in \u001b[0;36m_next_data\u001b[0;34m(self)\u001b[0m\n\u001b[1;32m    473\u001b[0m     \u001b[0;32mdef\u001b[0m \u001b[0m_next_data\u001b[0m\u001b[0;34m(\u001b[0m\u001b[0mself\u001b[0m\u001b[0;34m)\u001b[0m\u001b[0;34m:\u001b[0m\u001b[0;34m\u001b[0m\u001b[0;34m\u001b[0m\u001b[0m\n\u001b[1;32m    474\u001b[0m         \u001b[0mindex\u001b[0m \u001b[0;34m=\u001b[0m \u001b[0mself\u001b[0m\u001b[0;34m.\u001b[0m\u001b[0m_next_index\u001b[0m\u001b[0;34m(\u001b[0m\u001b[0;34m)\u001b[0m  \u001b[0;31m# may raise StopIteration\u001b[0m\u001b[0;34m\u001b[0m\u001b[0;34m\u001b[0m\u001b[0m\n\u001b[0;32m--> 475\u001b[0;31m         \u001b[0mdata\u001b[0m \u001b[0;34m=\u001b[0m \u001b[0mself\u001b[0m\u001b[0;34m.\u001b[0m\u001b[0m_dataset_fetcher\u001b[0m\u001b[0;34m.\u001b[0m\u001b[0mfetch\u001b[0m\u001b[0;34m(\u001b[0m\u001b[0mindex\u001b[0m\u001b[0;34m)\u001b[0m  \u001b[0;31m# may raise StopIteration\u001b[0m\u001b[0;34m\u001b[0m\u001b[0;34m\u001b[0m\u001b[0m\n\u001b[0m\u001b[1;32m    476\u001b[0m         \u001b[0;32mif\u001b[0m \u001b[0mself\u001b[0m\u001b[0;34m.\u001b[0m\u001b[0m_pin_memory\u001b[0m\u001b[0;34m:\u001b[0m\u001b[0;34m\u001b[0m\u001b[0;34m\u001b[0m\u001b[0m\n\u001b[1;32m    477\u001b[0m             \u001b[0mdata\u001b[0m \u001b[0;34m=\u001b[0m \u001b[0m_utils\u001b[0m\u001b[0;34m.\u001b[0m\u001b[0mpin_memory\u001b[0m\u001b[0;34m.\u001b[0m\u001b[0mpin_memory\u001b[0m\u001b[0;34m(\u001b[0m\u001b[0mdata\u001b[0m\u001b[0;34m)\u001b[0m\u001b[0;34m\u001b[0m\u001b[0;34m\u001b[0m\u001b[0m\n",
            "\u001b[0;32m/usr/local/lib/python3.6/dist-packages/torch/utils/data/_utils/fetch.py\u001b[0m in \u001b[0;36mfetch\u001b[0;34m(self, possibly_batched_index)\u001b[0m\n\u001b[1;32m     42\u001b[0m     \u001b[0;32mdef\u001b[0m \u001b[0mfetch\u001b[0m\u001b[0;34m(\u001b[0m\u001b[0mself\u001b[0m\u001b[0;34m,\u001b[0m \u001b[0mpossibly_batched_index\u001b[0m\u001b[0;34m)\u001b[0m\u001b[0;34m:\u001b[0m\u001b[0;34m\u001b[0m\u001b[0;34m\u001b[0m\u001b[0m\n\u001b[1;32m     43\u001b[0m         \u001b[0;32mif\u001b[0m \u001b[0mself\u001b[0m\u001b[0;34m.\u001b[0m\u001b[0mauto_collation\u001b[0m\u001b[0;34m:\u001b[0m\u001b[0;34m\u001b[0m\u001b[0;34m\u001b[0m\u001b[0m\n\u001b[0;32m---> 44\u001b[0;31m             \u001b[0mdata\u001b[0m \u001b[0;34m=\u001b[0m \u001b[0;34m[\u001b[0m\u001b[0mself\u001b[0m\u001b[0;34m.\u001b[0m\u001b[0mdataset\u001b[0m\u001b[0;34m[\u001b[0m\u001b[0midx\u001b[0m\u001b[0;34m]\u001b[0m \u001b[0;32mfor\u001b[0m \u001b[0midx\u001b[0m \u001b[0;32min\u001b[0m \u001b[0mpossibly_batched_index\u001b[0m\u001b[0;34m]\u001b[0m\u001b[0;34m\u001b[0m\u001b[0;34m\u001b[0m\u001b[0m\n\u001b[0m\u001b[1;32m     45\u001b[0m         \u001b[0;32melse\u001b[0m\u001b[0;34m:\u001b[0m\u001b[0;34m\u001b[0m\u001b[0;34m\u001b[0m\u001b[0m\n\u001b[1;32m     46\u001b[0m             \u001b[0mdata\u001b[0m \u001b[0;34m=\u001b[0m \u001b[0mself\u001b[0m\u001b[0;34m.\u001b[0m\u001b[0mdataset\u001b[0m\u001b[0;34m[\u001b[0m\u001b[0mpossibly_batched_index\u001b[0m\u001b[0;34m]\u001b[0m\u001b[0;34m\u001b[0m\u001b[0;34m\u001b[0m\u001b[0m\n",
            "\u001b[0;32m/usr/local/lib/python3.6/dist-packages/torch/utils/data/_utils/fetch.py\u001b[0m in \u001b[0;36m<listcomp>\u001b[0;34m(.0)\u001b[0m\n\u001b[1;32m     42\u001b[0m     \u001b[0;32mdef\u001b[0m \u001b[0mfetch\u001b[0m\u001b[0;34m(\u001b[0m\u001b[0mself\u001b[0m\u001b[0;34m,\u001b[0m \u001b[0mpossibly_batched_index\u001b[0m\u001b[0;34m)\u001b[0m\u001b[0;34m:\u001b[0m\u001b[0;34m\u001b[0m\u001b[0;34m\u001b[0m\u001b[0m\n\u001b[1;32m     43\u001b[0m         \u001b[0;32mif\u001b[0m \u001b[0mself\u001b[0m\u001b[0;34m.\u001b[0m\u001b[0mauto_collation\u001b[0m\u001b[0;34m:\u001b[0m\u001b[0;34m\u001b[0m\u001b[0;34m\u001b[0m\u001b[0m\n\u001b[0;32m---> 44\u001b[0;31m             \u001b[0mdata\u001b[0m \u001b[0;34m=\u001b[0m \u001b[0;34m[\u001b[0m\u001b[0mself\u001b[0m\u001b[0;34m.\u001b[0m\u001b[0mdataset\u001b[0m\u001b[0;34m[\u001b[0m\u001b[0midx\u001b[0m\u001b[0;34m]\u001b[0m \u001b[0;32mfor\u001b[0m \u001b[0midx\u001b[0m \u001b[0;32min\u001b[0m \u001b[0mpossibly_batched_index\u001b[0m\u001b[0;34m]\u001b[0m\u001b[0;34m\u001b[0m\u001b[0;34m\u001b[0m\u001b[0m\n\u001b[0m\u001b[1;32m     45\u001b[0m         \u001b[0;32melse\u001b[0m\u001b[0;34m:\u001b[0m\u001b[0;34m\u001b[0m\u001b[0;34m\u001b[0m\u001b[0m\n\u001b[1;32m     46\u001b[0m             \u001b[0mdata\u001b[0m \u001b[0;34m=\u001b[0m \u001b[0mself\u001b[0m\u001b[0;34m.\u001b[0m\u001b[0mdataset\u001b[0m\u001b[0;34m[\u001b[0m\u001b[0mpossibly_batched_index\u001b[0m\u001b[0;34m]\u001b[0m\u001b[0;34m\u001b[0m\u001b[0;34m\u001b[0m\u001b[0m\n",
            "\u001b[0;32m/usr/local/lib/python3.6/dist-packages/torch/utils/data/dataset.py\u001b[0m in \u001b[0;36m__getitem__\u001b[0;34m(self, idx)\u001b[0m\n\u001b[1;32m    216\u001b[0m         \u001b[0;32melse\u001b[0m\u001b[0;34m:\u001b[0m\u001b[0;34m\u001b[0m\u001b[0;34m\u001b[0m\u001b[0m\n\u001b[1;32m    217\u001b[0m             \u001b[0msample_idx\u001b[0m \u001b[0;34m=\u001b[0m \u001b[0midx\u001b[0m \u001b[0;34m-\u001b[0m \u001b[0mself\u001b[0m\u001b[0;34m.\u001b[0m\u001b[0mcumulative_sizes\u001b[0m\u001b[0;34m[\u001b[0m\u001b[0mdataset_idx\u001b[0m \u001b[0;34m-\u001b[0m \u001b[0;36m1\u001b[0m\u001b[0;34m]\u001b[0m\u001b[0;34m\u001b[0m\u001b[0;34m\u001b[0m\u001b[0m\n\u001b[0;32m--> 218\u001b[0;31m         \u001b[0;32mreturn\u001b[0m \u001b[0mself\u001b[0m\u001b[0;34m.\u001b[0m\u001b[0mdatasets\u001b[0m\u001b[0;34m[\u001b[0m\u001b[0mdataset_idx\u001b[0m\u001b[0;34m]\u001b[0m\u001b[0;34m[\u001b[0m\u001b[0msample_idx\u001b[0m\u001b[0;34m]\u001b[0m\u001b[0;34m\u001b[0m\u001b[0;34m\u001b[0m\u001b[0m\n\u001b[0m\u001b[1;32m    219\u001b[0m \u001b[0;34m\u001b[0m\u001b[0m\n\u001b[1;32m    220\u001b[0m     \u001b[0;34m@\u001b[0m\u001b[0mproperty\u001b[0m\u001b[0;34m\u001b[0m\u001b[0;34m\u001b[0m\u001b[0m\n",
            "\u001b[0;32m/usr/local/lib/python3.6/dist-packages/torch/utils/data/dataset.py\u001b[0m in \u001b[0;36m__getitem__\u001b[0;34m(self, idx)\u001b[0m\n\u001b[1;32m    270\u001b[0m \u001b[0;34m\u001b[0m\u001b[0m\n\u001b[1;32m    271\u001b[0m     \u001b[0;32mdef\u001b[0m \u001b[0m__getitem__\u001b[0m\u001b[0;34m(\u001b[0m\u001b[0mself\u001b[0m\u001b[0;34m,\u001b[0m \u001b[0midx\u001b[0m\u001b[0;34m)\u001b[0m\u001b[0;34m:\u001b[0m\u001b[0;34m\u001b[0m\u001b[0;34m\u001b[0m\u001b[0m\n\u001b[0;32m--> 272\u001b[0;31m         \u001b[0;32mreturn\u001b[0m \u001b[0mself\u001b[0m\u001b[0;34m.\u001b[0m\u001b[0mdataset\u001b[0m\u001b[0;34m[\u001b[0m\u001b[0mself\u001b[0m\u001b[0;34m.\u001b[0m\u001b[0mindices\u001b[0m\u001b[0;34m[\u001b[0m\u001b[0midx\u001b[0m\u001b[0;34m]\u001b[0m\u001b[0;34m]\u001b[0m\u001b[0;34m\u001b[0m\u001b[0;34m\u001b[0m\u001b[0m\n\u001b[0m\u001b[1;32m    273\u001b[0m \u001b[0;34m\u001b[0m\u001b[0m\n\u001b[1;32m    274\u001b[0m     \u001b[0;32mdef\u001b[0m \u001b[0m__len__\u001b[0m\u001b[0;34m(\u001b[0m\u001b[0mself\u001b[0m\u001b[0;34m)\u001b[0m\u001b[0;34m:\u001b[0m\u001b[0;34m\u001b[0m\u001b[0;34m\u001b[0m\u001b[0m\n",
            "\u001b[0;32m<ipython-input-6-6b9169976753>\u001b[0m in \u001b[0;36m__getitem__\u001b[0;34m(self, i)\u001b[0m\n\u001b[1;32m     62\u001b[0m \u001b[0;34m\u001b[0m\u001b[0m\n\u001b[1;32m     63\u001b[0m     \u001b[0;31m# Actually load the Nifti files and create PyTorch tensors\u001b[0m\u001b[0;34m\u001b[0m\u001b[0;34m\u001b[0m\u001b[0;34m\u001b[0m\u001b[0m\n\u001b[0;32m---> 64\u001b[0;31m     \u001b[0mwmh\u001b[0m \u001b[0;34m=\u001b[0m \u001b[0mself\u001b[0m\u001b[0;34m.\u001b[0m\u001b[0mread_image\u001b[0m\u001b[0;34m(\u001b[0m\u001b[0mwmh_path\u001b[0m\u001b[0;34m)\u001b[0m\u001b[0;34m\u001b[0m\u001b[0;34m\u001b[0m\u001b[0m\n\u001b[0m\u001b[1;32m     65\u001b[0m     \u001b[0mt1\u001b[0m \u001b[0;34m=\u001b[0m \u001b[0mself\u001b[0m\u001b[0;34m.\u001b[0m\u001b[0mread_image\u001b[0m\u001b[0;34m(\u001b[0m\u001b[0mt1_path\u001b[0m\u001b[0;34m)\u001b[0m\u001b[0;34m\u001b[0m\u001b[0;34m\u001b[0m\u001b[0m\n\u001b[1;32m     66\u001b[0m     \u001b[0mflair\u001b[0m \u001b[0;34m=\u001b[0m \u001b[0mself\u001b[0m\u001b[0;34m.\u001b[0m\u001b[0mread_image\u001b[0m\u001b[0;34m(\u001b[0m\u001b[0mflair_path\u001b[0m\u001b[0;34m)\u001b[0m\u001b[0;34m\u001b[0m\u001b[0;34m\u001b[0m\u001b[0m\n",
            "\u001b[0;32m<ipython-input-6-6b9169976753>\u001b[0m in \u001b[0;36mread_image\u001b[0;34m(self, path)\u001b[0m\n\u001b[1;32m     45\u001b[0m   \u001b[0;31m# It loads the Nifti files, gets a correctly spaced NumPy array, and creates a tensor\u001b[0m\u001b[0;34m\u001b[0m\u001b[0;34m\u001b[0m\u001b[0;34m\u001b[0m\u001b[0m\n\u001b[1;32m     46\u001b[0m   \u001b[0;32mdef\u001b[0m \u001b[0mread_image\u001b[0m\u001b[0;34m(\u001b[0m\u001b[0mself\u001b[0m\u001b[0;34m,\u001b[0m \u001b[0mpath\u001b[0m\u001b[0;34m)\u001b[0m\u001b[0;34m:\u001b[0m\u001b[0;34m\u001b[0m\u001b[0;34m\u001b[0m\u001b[0m\n\u001b[0;32m---> 47\u001b[0;31m     \u001b[0mimg\u001b[0m \u001b[0;34m=\u001b[0m \u001b[0msitk\u001b[0m\u001b[0;34m.\u001b[0m\u001b[0mReadImage\u001b[0m\u001b[0;34m(\u001b[0m\u001b[0mpath\u001b[0m\u001b[0;34m)\u001b[0m\u001b[0;34m\u001b[0m\u001b[0;34m\u001b[0m\u001b[0m\n\u001b[0m\u001b[1;32m     48\u001b[0m     \u001b[0mimg_as_numpy\u001b[0m \u001b[0;34m=\u001b[0m \u001b[0msitk\u001b[0m\u001b[0;34m.\u001b[0m\u001b[0mGetArrayFromImage\u001b[0m\u001b[0;34m(\u001b[0m\u001b[0mimg\u001b[0m\u001b[0;34m)\u001b[0m\u001b[0;34m.\u001b[0m\u001b[0mastype\u001b[0m\u001b[0;34m(\u001b[0m\u001b[0;34m'float'\u001b[0m\u001b[0;34m)\u001b[0m \u001b[0;31m# the default type is uint16, which trips up PyTorch so we convert to float\u001b[0m\u001b[0;34m\u001b[0m\u001b[0;34m\u001b[0m\u001b[0m\n\u001b[1;32m     49\u001b[0m     \u001b[0mimg_as_tensor\u001b[0m \u001b[0;34m=\u001b[0m \u001b[0mtorch\u001b[0m\u001b[0;34m.\u001b[0m\u001b[0mfrom_numpy\u001b[0m\u001b[0;34m(\u001b[0m\u001b[0mimg_as_numpy\u001b[0m\u001b[0;34m)\u001b[0m\u001b[0;34m\u001b[0m\u001b[0;34m\u001b[0m\u001b[0m\n",
            "\u001b[0;32m/usr/local/lib/python3.6/dist-packages/SimpleITK/extra.py\u001b[0m in \u001b[0;36mReadImage\u001b[0;34m(fileName, outputPixelType, imageIO)\u001b[0m\n\u001b[1;32m    344\u001b[0m     \u001b[0mreader\u001b[0m\u001b[0;34m.\u001b[0m\u001b[0mSetImageIO\u001b[0m\u001b[0;34m(\u001b[0m\u001b[0mimageIO\u001b[0m\u001b[0;34m)\u001b[0m\u001b[0;34m\u001b[0m\u001b[0;34m\u001b[0m\u001b[0m\n\u001b[1;32m    345\u001b[0m     \u001b[0mreader\u001b[0m\u001b[0;34m.\u001b[0m\u001b[0mSetOutputPixelType\u001b[0m\u001b[0;34m(\u001b[0m\u001b[0moutputPixelType\u001b[0m\u001b[0;34m)\u001b[0m\u001b[0;34m\u001b[0m\u001b[0;34m\u001b[0m\u001b[0m\n\u001b[0;32m--> 346\u001b[0;31m     \u001b[0;32mreturn\u001b[0m \u001b[0mreader\u001b[0m\u001b[0;34m.\u001b[0m\u001b[0mExecute\u001b[0m\u001b[0;34m(\u001b[0m\u001b[0;34m)\u001b[0m\u001b[0;34m\u001b[0m\u001b[0;34m\u001b[0m\u001b[0m\n\u001b[0m\u001b[1;32m    347\u001b[0m \u001b[0;34m\u001b[0m\u001b[0m\n\u001b[1;32m    348\u001b[0m \u001b[0;34m\u001b[0m\u001b[0m\n",
            "\u001b[0;32m/usr/local/lib/python3.6/dist-packages/SimpleITK/SimpleITK.py\u001b[0m in \u001b[0;36mExecute\u001b[0;34m(self)\u001b[0m\n\u001b[1;32m   5777\u001b[0m     \u001b[0;32mdef\u001b[0m \u001b[0mExecute\u001b[0m\u001b[0;34m(\u001b[0m\u001b[0mself\u001b[0m\u001b[0;34m)\u001b[0m\u001b[0;34m:\u001b[0m\u001b[0;34m\u001b[0m\u001b[0;34m\u001b[0m\u001b[0m\n\u001b[1;32m   5778\u001b[0m         \u001b[0;34mr\"\"\"Execute(ImageFileReader self) -> Image\"\"\"\u001b[0m\u001b[0;34m\u001b[0m\u001b[0;34m\u001b[0m\u001b[0m\n\u001b[0;32m-> 5779\u001b[0;31m         \u001b[0;32mreturn\u001b[0m \u001b[0m_SimpleITK\u001b[0m\u001b[0;34m.\u001b[0m\u001b[0mImageFileReader_Execute\u001b[0m\u001b[0;34m(\u001b[0m\u001b[0mself\u001b[0m\u001b[0;34m)\u001b[0m\u001b[0;34m\u001b[0m\u001b[0;34m\u001b[0m\u001b[0m\n\u001b[0m\u001b[1;32m   5780\u001b[0m \u001b[0;34m\u001b[0m\u001b[0m\n\u001b[1;32m   5781\u001b[0m     \u001b[0;32mdef\u001b[0m \u001b[0mReadImageInformation\u001b[0m\u001b[0;34m(\u001b[0m\u001b[0mself\u001b[0m\u001b[0;34m)\u001b[0m\u001b[0;34m:\u001b[0m\u001b[0;34m\u001b[0m\u001b[0;34m\u001b[0m\u001b[0m\n",
            "\u001b[0;31mKeyboardInterrupt\u001b[0m: "
          ]
        }
      ]
    },
    {
      "cell_type": "code",
      "metadata": {
        "id": "VEPFU4AFOn5Z",
        "colab": {
          "base_uri": "https://localhost:8080/",
          "height": 229
        },
        "outputId": "1ba1a9e9-b638-49c0-eabb-3b9e1addf12b"
      },
      "source": [
        "#Visualize the loss\n",
        "plt.plot(losses[0], label=\"training\")\n",
        "plt.plot(losses[1], label=\"test\")\n",
        "plt.xlabel(\"Number of epochs\")\n",
        "plt.ylabel(\"Loss\")\n",
        "plt.legend(loc=\"upper left\")"
      ],
      "execution_count": null,
      "outputs": [
        {
          "output_type": "error",
          "ename": "NameError",
          "evalue": "ignored",
          "traceback": [
            "\u001b[0;31m---------------------------------------------------------------------------\u001b[0m",
            "\u001b[0;31mNameError\u001b[0m                                 Traceback (most recent call last)",
            "\u001b[0;32m<ipython-input-1-76c1498574bc>\u001b[0m in \u001b[0;36m<module>\u001b[0;34m()\u001b[0m\n\u001b[1;32m      1\u001b[0m \u001b[0;31m#Visualize the loss\u001b[0m\u001b[0;34m\u001b[0m\u001b[0;34m\u001b[0m\u001b[0;34m\u001b[0m\u001b[0m\n\u001b[0;32m----> 2\u001b[0;31m \u001b[0mplt\u001b[0m\u001b[0;34m.\u001b[0m\u001b[0mplot\u001b[0m\u001b[0;34m(\u001b[0m\u001b[0mlosses\u001b[0m\u001b[0;34m[\u001b[0m\u001b[0;36m0\u001b[0m\u001b[0;34m]\u001b[0m\u001b[0;34m,\u001b[0m \u001b[0mlabel\u001b[0m\u001b[0;34m=\u001b[0m\u001b[0;34m\"training\"\u001b[0m\u001b[0;34m)\u001b[0m\u001b[0;34m\u001b[0m\u001b[0;34m\u001b[0m\u001b[0m\n\u001b[0m\u001b[1;32m      3\u001b[0m \u001b[0mplt\u001b[0m\u001b[0;34m.\u001b[0m\u001b[0mplot\u001b[0m\u001b[0;34m(\u001b[0m\u001b[0mlosses\u001b[0m\u001b[0;34m[\u001b[0m\u001b[0;36m1\u001b[0m\u001b[0;34m]\u001b[0m\u001b[0;34m,\u001b[0m \u001b[0mlabel\u001b[0m\u001b[0;34m=\u001b[0m\u001b[0;34m\"test\"\u001b[0m\u001b[0;34m)\u001b[0m\u001b[0;34m\u001b[0m\u001b[0;34m\u001b[0m\u001b[0m\n\u001b[1;32m      4\u001b[0m \u001b[0mplt\u001b[0m\u001b[0;34m.\u001b[0m\u001b[0mxlabel\u001b[0m\u001b[0;34m(\u001b[0m\u001b[0;34m\"Number of epochs\"\u001b[0m\u001b[0;34m)\u001b[0m\u001b[0;34m\u001b[0m\u001b[0;34m\u001b[0m\u001b[0m\n\u001b[1;32m      5\u001b[0m \u001b[0mplt\u001b[0m\u001b[0;34m.\u001b[0m\u001b[0mylabel\u001b[0m\u001b[0;34m(\u001b[0m\u001b[0;34m\"Loss\"\u001b[0m\u001b[0;34m)\u001b[0m\u001b[0;34m\u001b[0m\u001b[0;34m\u001b[0m\u001b[0m\n",
            "\u001b[0;31mNameError\u001b[0m: name 'plt' is not defined"
          ]
        }
      ]
    },
    {
      "cell_type": "markdown",
      "metadata": {
        "id": "UIwFqQ43Yn7W"
      },
      "source": [
        "## Save the model\r\n",
        "I'd suggest taking care in saving the model for a certain augmentation set, by giving it another name or saving it in a different location to make sure it won't be overwritten when saving another trained model."
      ]
    },
    {
      "cell_type": "code",
      "metadata": {
        "id": "_-rrn2EGPANt",
        "colab": {
          "base_uri": "https://localhost:8080/"
        },
        "outputId": "c9f89ace-fafc-4b99-f687-713ee4fcc5ed"
      },
      "source": [
        "#Store/save model\n",
        "data_path = '/content/drive/MyDrive/'\n",
        "torch.save(model.state_dict(), data_path + 'WMH_segmentation.pt')\n",
        "\n",
        "#Re-load model\n",
        "loaded_model = UNet(1,1)\n",
        "loaded_model.load_state_dict(torch.load(data_path + 'WMH_segmentation.pt'))"
      ],
      "execution_count": null,
      "outputs": [
        {
          "output_type": "execute_result",
          "data": {
            "text/plain": [
              "<All keys matched successfully>"
            ]
          },
          "metadata": {
            "tags": []
          },
          "execution_count": 28
        }
      ]
    },
    {
      "cell_type": "markdown",
      "metadata": {
        "id": "RNkDqf6PXAzM"
      },
      "source": [
        "#Evaluation metrics\n",
        "\n",
        "Get the prediction for a single image based on the trained U-Net."
      ]
    },
    {
      "cell_type": "code",
      "metadata": {
        "id": "NRRAabyhVtad",
        "colab": {
          "base_uri": "https://localhost:8080/",
          "height": 66,
          "referenced_widgets": [
            "fe22f60503bc434aa269aac20d2fcf2e",
            "f3d4a9682e62413d97eab0aa423823e5",
            "b440c7962ba94f159cae2b6e14549a38",
            "83a30809d69d404bae619f165006dece",
            "07bf58dc150549c29fff8daf161fbcd5",
            "8864c54be223434da1eb07c974da97c9",
            "9a2183486f6142fd8d9a6da7bdb58019",
            "0aa296b4043e4fd3bce55cb96e167115"
          ]
        },
        "outputId": "0184a72b-dc34-4991-889b-ebdefa10743a"
      },
      "source": [
        "inputDir = '/content/drive/MyDrive/Utrecht'\n",
        "dir_name = '23' # Make sure to pick one of the subjects in testing: probs 27, 17, 23\n",
        "resultDir = '/content/drive/MyDrive/Results/Utrecht'\n",
        "if not os.path.isdir(resultDir):\n",
        "  os.mkdir(resultDir)\n",
        "\n",
        "img_FLAIR = sitk.GetArrayFromImage(sitk.ReadImage(os.path.join(inputDir, dir_name, 'pre', 'FLAIR.nii.gz'))).astype('float')\n",
        "img_wmh = sitk.GetArrayFromImage(sitk.ReadImage(os.path.join(inputDir, dir_name, 'wmh.nii.gz'))).astype('float')\n",
        "\n",
        "tensor_FLAIR = torch.from_numpy(img_FLAIR)\n",
        "tensor_wmh = torch.from_numpy(img_wmh)\n",
        "\n",
        "dataloader = torch.utils.data.DataLoader(tensor_FLAIR, batch_size = 1, shuffle=True)\n",
        "pred = torch.zeros(tensor_wmh.size())\n",
        "\n",
        "# model = UNet(1,1)\n",
        "# model = model.to(device)\n",
        "model.eval()\n",
        "\n",
        "for ind, input in enumerate(tqdm(dataloader)):\n",
        "  with torch.no_grad():\n",
        "    input = input.unsqueeze(0)\n",
        "    input = input.to(device, dtype=torch.float)\n",
        "    output = model(input)\n",
        "    pred[ind, ...] = output"
      ],
      "execution_count": null,
      "outputs": [
        {
          "output_type": "display_data",
          "data": {
            "application/vnd.jupyter.widget-view+json": {
              "model_id": "fe22f60503bc434aa269aac20d2fcf2e",
              "version_minor": 0,
              "version_major": 2
            },
            "text/plain": [
              "HBox(children=(FloatProgress(value=0.0, max=48.0), HTML(value='')))"
            ]
          },
          "metadata": {
            "tags": []
          }
        },
        {
          "output_type": "stream",
          "text": [
            "\n"
          ],
          "name": "stdout"
        }
      ]
    },
    {
      "cell_type": "code",
      "metadata": {
        "id": "JBVss-jt379-",
        "colab": {
          "base_uri": "https://localhost:8080/",
          "height": 270
        },
        "outputId": "fe05415d-c3a7-4a3b-a9e8-8e391f780882"
      },
      "source": [
        "  f, ax = plt.subplots(1, 3, figsize=(15, 15))\n",
        "\n",
        "  # turn off axis to remove ticks and such\n",
        "  [a.axis('off') for a in ax]\n",
        "\n",
        "  # Here we plot it at the actual subplot we want. We set the colormap to gray (feel free to experiment)\n",
        "  slice = 24 # Feel free to change, 48 slices for Utrecht.\n",
        "  test_plot = ax[0].imshow(tensor_FLAIR[slice, :, :], cmap='gray')\n",
        "  pred_plot = ax[1].imshow(pred[slice, :, :], cmap='gray')\n",
        "  target_plot = ax[2].imshow(tensor_wmh[slice, :, :], cmap='gray')\n",
        "\n",
        "  # Add titles and colorbar\n",
        "  ax[0].set_title('FLAIR')\n",
        "  ax[1].set_title('Predicted output')\n",
        "  ax[2].set_title('White-matter Hyperintensity mask')\n",
        "\n",
        "  f.colorbar(test_plot, ax=ax[0], shrink=0.25) # Guess this is just for the colorbar.\n",
        "  f.colorbar(pred_plot, ax=ax[1], shrink=0.25)\n",
        "  f.colorbar(target_plot, ax=ax[2], shrink=0.25)"
      ],
      "execution_count": null,
      "outputs": [
        {
          "output_type": "execute_result",
          "data": {
            "text/plain": [
              "<matplotlib.colorbar.Colorbar at 0x7f7a42cb03c8>"
            ]
          },
          "metadata": {
            "tags": []
          },
          "execution_count": 56
        },
        {
          "output_type": "display_data",
          "data": {
            "image/png": "[encoded data removed]",
            "text/plain": [
              "<Figure size 1080x1080 with 6 Axes>"
            ]
          },
          "metadata": {
            "tags": [],
            "needs_background": "light"
          }
        }
      ]
    },
    {
      "cell_type": "code",
      "metadata": {
        "id": "1xMF6zf3V7KJ"
      },
      "source": [
        "# Writes result of previous selected subject.\n",
        "filename_resultImage = os.path.join(resultDir, dir_name, 'result.nii.gz')\n",
        "sitk.WriteImage(sitk.GetImageFromArray(pred.numpy()), filename_resultImage )\n",
        "filename_testImage = os.path.join(inputDir, dir_name, 'wmh.nii.gz')"
      ],
      "execution_count": null,
      "outputs": []
    },
    {
      "cell_type": "markdown",
      "metadata": {
        "id": "zTl7rh3jp9m0"
      },
      "source": [
        "## Evaluation Metrics: Dice, HD, AVD, Recall, F1."
      ]
    },
    {
      "cell_type": "code",
      "metadata": {
        "id": "lpFI6wLcnAjA"
      },
      "source": [
        "# Set the path to the source data (e.g. the training data for self-testing)\r\n",
        "# and the output directory of that subject\r\n",
        "testDir        = os.path.join(inputDir, dir_name) # For example: '/data/Utrecht/0'\r\n",
        "participantDir = os.path.join(resultDir, dir_name) # For example: '/output/teamname/0'.\r\n",
        "\r\n",
        "# In light of the previous evaluation subsection this has been put to the inputDir and resultDir provided there."
      ],
      "execution_count": null,
      "outputs": []
    },
    {
      "cell_type": "code",
      "metadata": {
        "id": "GtfdyiImpX1Y"
      },
      "source": [
        "def do():\r\n",
        "    \"\"\"Main function\"\"\"\r\n",
        "    resultFilename = getResultFilename(participantDir)  \r\n",
        "        \r\n",
        "    testImage, resultImage = getImages(os.path.join(testDir, 'wmh.nii.gz'), resultFilename)\r\n",
        "    \r\n",
        "    dsc = getDSC(testImage, resultImage)\r\n",
        "    h95 = getHausdorff(testImage, resultImage)\r\n",
        "    avd = getAVD(testImage, resultImage)    \r\n",
        "    recall, f1 = getLesionDetection(testImage, resultImage)    \r\n",
        "    \r\n",
        "    print('Dice',                dsc,       '(higher is better, max=1)')\r\n",
        "    print('HD',                  h95, 'mm',  '(lower is better, min=0)')\r\n",
        "    print('AVD',                 avd,  '%',  '(lower is better, min=0)')\r\n",
        "    print('Lesion detection', recall,       '(higher is better, max=1)')\r\n",
        "    print('Lesion F1',            f1,       '(higher is better, max=1)')\r\n",
        "    \r\n",
        "\r\n",
        "def getImages(testFilename, resultFilename):\r\n",
        "    \"\"\"Return the test and result images, thresholded and non-WMH masked.\"\"\"\r\n",
        "    testImage   = sitk.ReadImage(testFilename)\r\n",
        "    resultImage = sitk.ReadImage(resultFilename)\r\n",
        "    \r\n",
        "    # Check for equality\r\n",
        "    assert testImage.GetSize() == resultImage.GetSize()\r\n",
        "    \r\n",
        "    # Get meta data from the test-image, needed for some sitk methods that check this\r\n",
        "    resultImage.CopyInformation(testImage)\r\n",
        "    \r\n",
        "    # Remove non-WMH from the test and result images, since we don't evaluate on that\r\n",
        "    maskedTestImage = sitk.BinaryThreshold(testImage, 0.5,  1.5, 1, 0) # WMH == 1    \r\n",
        "    nonWMHImage     = sitk.BinaryThreshold(testImage, 1.5,  2.5, 0, 1) # non-WMH == 2\r\n",
        "    maskedResultImage = sitk.Mask(resultImage, nonWMHImage)\r\n",
        "    \r\n",
        "    # Convert to binary mask\r\n",
        "    if 'integer' in maskedResultImage.GetPixelIDTypeAsString():\r\n",
        "        bResultImage = sitk.BinaryThreshold(maskedResultImage, 1, 1000, 1, 0)\r\n",
        "    else:\r\n",
        "        bResultImage = sitk.BinaryThreshold(maskedResultImage, 0.5, 1000, 1, 0)\r\n",
        "        \r\n",
        "    return maskedTestImage, bResultImage\r\n",
        "    \r\n",
        "\r\n",
        "def getResultFilename(participantDir):\r\n",
        "    \"\"\"Find the filename of the result image.\r\n",
        "    \r\n",
        "    This should be result.nii.gz or result.nii. If these files are not present,\r\n",
        "    it tries to find the closest filename.\"\"\"\r\n",
        "    files = os.listdir(participantDir)\r\n",
        "    \r\n",
        "    if not files:\r\n",
        "        raise Exception(\"No results in \"+ participantDir)\r\n",
        "    \r\n",
        "    resultFilename = None\r\n",
        "    if 'result.nii.gz' in files:\r\n",
        "        resultFilename = os.path.join(participantDir, 'result.nii.gz')\r\n",
        "    elif 'result.nii' in files:\r\n",
        "        resultFilename = os.path.join(participantDir, 'result.nii')\r\n",
        "    else:\r\n",
        "        # Find the filename that is closest to 'result.nii.gz'\r\n",
        "        maxRatio = -1\r\n",
        "        for f in files:\r\n",
        "            currentRatio = difflib.SequenceMatcher(a = f, b = 'result.nii.gz').ratio()\r\n",
        "            \r\n",
        "            if currentRatio > maxRatio:\r\n",
        "                resultFilename = os.path.join(participantDir, f)\r\n",
        "                maxRatio = currentRatio\r\n",
        "                \r\n",
        "    return resultFilename\r\n",
        "    \r\n",
        "    \r\n",
        "def getDSC(testImage, resultImage):    \r\n",
        "    \"\"\"Compute the Dice Similarity Coefficient.\"\"\"\r\n",
        "    testArray   = sitk.GetArrayFromImage(testImage).flatten()\r\n",
        "    resultArray = sitk.GetArrayFromImage(resultImage).flatten()\r\n",
        "    \r\n",
        "    # similarity = 1.0 - dissimilarity\r\n",
        "    return 1.0 - scipy.spatial.distance.dice(testArray, resultArray) \r\n",
        "    \r\n",
        "\r\n",
        "def getHausdorff(testImage, resultImage):\r\n",
        "    \"\"\"Compute the Hausdorff distance.\"\"\"\r\n",
        "    \r\n",
        "    # Hausdorff distance is only defined when something is detected\r\n",
        "    resultStatistics = sitk.StatisticsImageFilter()\r\n",
        "    resultStatistics.Execute(resultImage)\r\n",
        "    if resultStatistics.GetSum() == 0:\r\n",
        "        return float('nan')\r\n",
        "        \r\n",
        "    # Edge detection is done by ORIGINAL - ERODED, keeping the outer boundaries of lesions. Erosion is performed in 2D\r\n",
        "    eTestImage   = sitk.BinaryErode(testImage, (1,1,0) )\r\n",
        "    eResultImage = sitk.BinaryErode(resultImage, (1,1,0) )\r\n",
        "    \r\n",
        "    hTestImage   = sitk.Subtract(testImage, eTestImage)\r\n",
        "    hResultImage = sitk.Subtract(resultImage, eResultImage)    \r\n",
        "    \r\n",
        "    hTestArray   = sitk.GetArrayFromImage(hTestImage)\r\n",
        "    hResultArray = sitk.GetArrayFromImage(hResultImage)   \r\n",
        "        \r\n",
        "    # Convert voxel location to world coordinates. Use the coordinate system of the test image\r\n",
        "    # np.nonzero   = elements of the boundary in numpy order (zyx)\r\n",
        "    # np.flipud    = elements in xyz order\r\n",
        "    # np.transpose = create tuples (x,y,z)\r\n",
        "    # testImage.TransformIndexToPhysicalPoint converts (xyz) to world coordinates (in mm)\r\n",
        "    testCoordinates   = [testImage.TransformIndexToPhysicalPoint(x.tolist()) for x in np.transpose( np.flipud( np.nonzero(hTestArray) ))]\r\n",
        "    resultCoordinates = [testImage.TransformIndexToPhysicalPoint(x.tolist()) for x in np.transpose( np.flipud( np.nonzero(hResultArray) ))]\r\n",
        "        \r\n",
        "            \r\n",
        "    # Use a kd-tree for fast spatial search\r\n",
        "    def getDistancesFromAtoB(a, b):    \r\n",
        "        kdTree = scipy.spatial.KDTree(a, leafsize=100)\r\n",
        "        return kdTree.query(b, k=1, eps=0, p=2)[0]\r\n",
        "    \r\n",
        "    # Compute distances from test to result; and result to test\r\n",
        "    dTestToResult = getDistancesFromAtoB(testCoordinates, resultCoordinates)\r\n",
        "    dResultToTest = getDistancesFromAtoB(resultCoordinates, testCoordinates)    \r\n",
        "    \r\n",
        "    return max(np.percentile(dTestToResult, 95), np.percentile(dResultToTest, 95))\r\n",
        "    \r\n",
        "    \r\n",
        "def getLesionDetection(testImage, resultImage):    \r\n",
        "    \"\"\"Lesion detection metrics, both recall and F1.\"\"\"\r\n",
        "    \r\n",
        "    # Connected components will give the background label 0, so subtract 1 from all results\r\n",
        "    ccFilter = sitk.ConnectedComponentImageFilter()    \r\n",
        "    ccFilter.SetFullyConnected(True)\r\n",
        "    \r\n",
        "    # Connected components on the test image, to determine the number of true WMH.\r\n",
        "    # And to get the overlap between detected voxels and true WMH\r\n",
        "    ccTest = ccFilter.Execute(testImage)    \r\n",
        "    lResult = sitk.Multiply(ccTest, sitk.Cast(resultImage, sitk.sitkUInt32))\r\n",
        "    \r\n",
        "    ccTestArray = sitk.GetArrayFromImage(ccTest)\r\n",
        "    lResultArray = sitk.GetArrayFromImage(lResult)\r\n",
        "    \r\n",
        "    # recall = (number of detected WMH) / (number of true WMH) \r\n",
        "    nWMH = len(np.unique(ccTestArray)) - 1\r\n",
        "    if nWMH == 0:\r\n",
        "        recall = 1.0\r\n",
        "    else:\r\n",
        "        recall = float(len(np.unique(lResultArray)) - 1) / nWMH\r\n",
        "    \r\n",
        "    # Connected components of results, to determine number of detected lesions\r\n",
        "    ccResult = ccFilter.Execute(resultImage)\r\n",
        "    lTest = sitk.Multiply(ccResult, sitk.Cast(testImage, sitk.sitkUInt32))\r\n",
        "    \r\n",
        "    ccResultArray = sitk.GetArrayFromImage(ccResult)\r\n",
        "    lTestArray = sitk.GetArrayFromImage(lTest)\r\n",
        "    \r\n",
        "    # precision = (number of detections that intersect with WMH) / (number of all detections)\r\n",
        "    nDetections = len(np.unique(ccResultArray)) - 1\r\n",
        "    if nDetections == 0:\r\n",
        "        precision = 1.0\r\n",
        "    else:\r\n",
        "        precision = float(len(np.unique(lTestArray)) - 1) / nDetections\r\n",
        "    \r\n",
        "    if precision + recall == 0.0:\r\n",
        "        f1 = 0.0\r\n",
        "    else:\r\n",
        "        f1 = 2.0 * (precision * recall) / (precision + recall)\r\n",
        "    \r\n",
        "    return recall, f1    \r\n",
        "\r\n",
        "    \r\n",
        "def getAVD(testImage, resultImage):   \r\n",
        "    \"\"\"Volume statistics.\"\"\"\r\n",
        "    # Compute statistics of both images\r\n",
        "    testStatistics   = sitk.StatisticsImageFilter()\r\n",
        "    resultStatistics = sitk.StatisticsImageFilter()\r\n",
        "    \r\n",
        "    testStatistics.Execute(testImage)\r\n",
        "    resultStatistics.Execute(resultImage)\r\n",
        "        \r\n",
        "    return float(abs(testStatistics.GetSum() - resultStatistics.GetSum())) / float(testStatistics.GetSum()) * 100"
      ],
      "execution_count": null,
      "outputs": []
    },
    {
      "cell_type": "code",
      "metadata": {
        "id": "Dggi8pbpn8M6",
        "colab": {
          "base_uri": "https://localhost:8080/"
        },
        "outputId": "2abbca54-15e9-4edf-dc21-68d3d333c0e9"
      },
      "source": [
        "do()"
      ],
      "execution_count": null,
      "outputs": [
        {
          "output_type": "stream",
          "text": [
            "Dice 0.009433962264150941 (higher is better, max=1)\n",
            "HD 63.007223401476054 mm (lower is better, min=0)\n",
            "AVD 8.433734939759036 % (lower is better, min=0)\n",
            "Lesion detection 0.09523809523809523 (higher is better, max=1)\n",
            "Lesion F1 0.06451612903225808 (higher is better, max=1)\n"
          ],
          "name": "stdout"
        }
      ]
    }
  ]
}