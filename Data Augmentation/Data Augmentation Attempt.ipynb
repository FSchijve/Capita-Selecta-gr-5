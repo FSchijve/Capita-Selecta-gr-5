{
 "cells": [
  {
   "cell_type": "markdown",
   "id": "quiet-center",
   "metadata": {},
   "source": [
    "# Data Augmentation"
   ]
  },
  {
   "cell_type": "code",
   "execution_count": null,
   "id": "native-clearance",
   "metadata": {},
   "outputs": [],
   "source": [
    "# installing packages\n",
    "import SimpleITK as sitk\n",
    "import numpy as np\n",
    "import matplotlib.pyplot as plt\n",
    "\n",
    "itk_image = sitk.ReadImage('example_data/chest_xray.mhd')\n",
    "image_array = sitk.GetArrayViewFromImage(itk_image)\n",
    "\n",
    "# print the image's dimensions\n",
    "print(image_array.shape)\n",
    "\n",
    "# plot the image\n",
    "plt.imshow(image_array, cmap='gray')\n",
    "plt.show()"
   ]
  },
  {
   "cell_type": "code",
   "execution_count": null,
   "id": "modern-alias",
   "metadata": {},
   "outputs": [],
   "source": []
  }
 ],
 "metadata": {
  "kernelspec": {
   "display_name": "Python 3",
   "language": "python",
   "name": "python3"
  },
  "language_info": {
   "codemirror_mode": {
    "name": "ipython",
    "version": 3
   },
   "file_extension": ".py",
   "mimetype": "text/x-python",
   "name": "python",
   "nbconvert_exporter": "python",
   "pygments_lexer": "ipython3",
   "version": "3.8.8"
  }
 },
 "nbformat": 4,
 "nbformat_minor": 5
}
